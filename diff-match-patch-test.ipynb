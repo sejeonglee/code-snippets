{
 "cells": [
  {
   "cell_type": "code",
   "execution_count": 2,
   "metadata": {},
   "outputs": [],
   "source": [
    "import diff_match_patch as dmp_module\n",
    "from pathlib import Path\n",
    "import json\n",
    "\n",
    "dmp = dmp_module.diff_match_patch()\n",
    "\n",
    "path = Path(\"./quotes_samples/육아휴직 비율 outlines.json\")\n",
    "with open(path, \"r\") as f:\n",
    "    data = json.load(f)"
   ]
  },
  {
   "cell_type": "code",
   "execution_count": 2,
   "metadata": {},
   "outputs": [],
   "source": [
    "# substitute 【\\d+†출처】 to <span >#</span> \n",
    "# 실제론 요청에서 이루어져서 온다.\n",
    "import re\n",
    "\n",
    "text_ref_pattern = re.compile(r\"【(?P<quote_i>\\d+)†출처】\")\n",
    "span_ref = re.sub(text_ref_pattern, \"<span class='style'>\\g<quote_i></span>\", data[\"answer\"])\n"
   ]
  },
  {
   "cell_type": "code",
   "execution_count": 3,
   "metadata": {},
   "outputs": [
    {
     "name": "stdout",
     "output_type": "stream",
     "text": [
      "최근 5~10년 동안 한국, 일본, 포르투갈, 스웨덴에서 육아휴직을 사용하는 남성 비율은 다음과 같이 변화했습니다.\n",
      "\n",
      "1. 한국:\n",
      "   - 2024년: 전체 육아휴직 사용자 중 남성 비율은 28.0%(3만 5336명)로 집계되었습니다.\n",
      "   - 2016년: 남성 육아휴직자 비율이 8.7%(7616명)였습니다.\n",
      "   - 2021년: 육아휴직자 가운데 남성은 20%대였습니다【1†출처】【3†출처】.\n",
      "\n",
      "2. 일본:\n",
      "   - 2022년도(2022년 4월~2023년 3월): 일본 남성 국가공무원의 육아휴직률이 70% 선을 처음으로 넘어섰습니다. 일본 요미우리신문은 5일 “일본의 공무원 인사행정 담당 기관인 인사원 집계에 따르면 2022년도(2022년 4월~2023년 3월) 육아휴직을 취득한 남성 공무원(일반직 상근자 기준) 수는 6043명으로 육아휴직 대상자의 72.5%에 달한다”고 밝혔습니다【2†출처】.\n",
      "\n",
      "3. 포르투갈:\n",
      "   - 포르투갈의 최근 5~10년 동안의 육아휴직을 사용하는 남성의 비율 변화에 대한 정보를 찾지 못했습니다.\n",
      "\n",
      "4. 스웨덴:\n",
      "   - 스웨덴의 육아휴직제도는 양성평등한 육아휴직 사용을 중시하는 것으로 잘 알려져 있습니다.\n",
      "   - 부모할당제 도입을 통해 남성의 육아휴직 사용 비율을 끌어올렸습니다.\n",
      "   - 19년: 육아휴직 사용의 양성평등 구현에 대한 논의가 활발했습니다.\n",
      "   - 2024년: 현재 전체 육아휴직 사용 기간 중 남성의 사용이 차지하는 비율은 27%입니다.\n",
      "   - 19년 이전: 스웨덴 남성의 육아 휴직 사용비율은 시행 전 0.5%였습니다【4†출처】【5†출처】.\n",
      "\n",
      "이 외에 육아휴직과 관련하여 더 궁금하신 점이 있다면 언제든지 물어봐 주세요!\n"
     ]
    }
   ],
   "source": [
    "print(data[\"answer\"])\n"
   ]
  },
  {
   "cell_type": "code",
   "execution_count": 9,
   "metadata": {},
   "outputs": [
    {
     "name": "stdout",
     "output_type": "stream",
     "text": [
      "최근 5~10년 동안 한국, 일본, 포르투갈, 스웨덴에서 육아휴직을 사용하는 남성 비율은 다음과 같이 변화했습니다.\n",
      "\n",
      "1. 한국:\n",
      "   - 2024년: 전체 육아휴직 사용자 중 남성 비율은 28.0%(3만 5336명)로 집계되었습니다.\n",
      "   - 2016년: 남성 육아휴직자 비율이 8.7%(7616명)였습니다.\n",
      "   - 2021년: 육아휴직자 가운데 남성은 20%대였습니다<span class='style'>1</span><span class='style'>3</span>.\n",
      "\n",
      "2. 일본:\n",
      "   - 2022년도(2022년 4월~2023년 3월): 일본 남성 국가공무원의 육아휴직률이 70% 선을 처음으로 넘어섰습니다. 일본 요미우리신문은 5일 “일본의 공무원 인사행정 담당 기관인 인사원 집계에 따르면 2022년도(2022년 4월~2023년 3월) 육아휴직을 취득한 남성 공무원(일반직 상근자 기준) 수는 6043명으로 육아휴직 대상자의 72.5%에 달한다”고 밝혔습니다<span class='style'>2</span>.\n",
      "\n",
      "3. 포르투갈:\n",
      "   - 포르투갈의 최근 5~10년 동안의 육아휴직을 사용하는 남성의 비율 변화에 대한 정보를 찾지 못했습니다.\n",
      "\n",
      "4. 스웨덴:\n",
      "   - 스웨덴의 육아휴직제도는 양성평등한 육아휴직 사용을 중시하는 것으로 잘 알려져 있습니다.\n",
      "   - 부모할당제 도입을 통해 남성의 육아휴직 사용 비율을 끌어올렸습니다.\n",
      "   - 19년: 육아휴직 사용의 양성평등 구현에 대한 논의가 활발했습니다.\n",
      "   - 2024년: 현재 전체 육아휴직 사용 기간 중 남성의 사용이 차지하는 비율은 27%입니다.\n",
      "   - 19년 이전: 스웨덴 남성의 육아 휴직 사용비율은 시행 전 0.5%였습니다<span class='style'>4</span><span class='style'>5</span>.\n",
      "\n",
      "이 외에 육아휴직과 관련하여 더 궁금하신 점이 있다면 언제든지 물어봐 주세요!\n"
     ]
    }
   ],
   "source": [
    "print(span_ref)"
   ]
  },
  {
   "cell_type": "code",
   "execution_count": 10,
   "metadata": {},
   "outputs": [],
   "source": [
    "response = span_ref"
   ]
  },
  {
   "cell_type": "code",
   "execution_count": 11,
   "metadata": {},
   "outputs": [],
   "source": [
    "import re\n",
    "\n",
    "def extract_quote_phrases(docs, response):\n",
    "    result = []\n",
    "    \n",
    "    for i, quote in enumerate(docs):\n",
    "        n = i+1\n",
    "        \n",
    "        for match_nth_span in re.finditer(r\"<span[^>]*>\"+str(n)+r\"</span>\", response):\n",
    "            removed_adj_spans = re.sub(r\"(<span[^>]*>\\d+</span>)*$\", \"\", response[:match_nth_span.start()])\n",
    "            quote_phrase_match = re.search(r\"(?P<quote_phrase>(?!.*</span>.*)[^\\n\\|\\->]+)$\", removed_adj_spans)\n",
    "            result.append({\n",
    "                \"span\": quote_phrase_match.groupdict()[\"quote_phrase\"],\n",
    "                \"source\": quote[\"text\"],\n",
    "                \"idx\": n,\n",
    "                \"start\": quote_phrase_match.start(),\n",
    "                \"end\": quote_phrase_match.end(),\n",
    "            })\n",
    "    return result\n",
    "\n",
    "\n",
    "result = extract_quote_phrases(data[\"quotes\"], span_ref)"
   ]
  },
  {
   "cell_type": "code",
   "execution_count": 12,
   "metadata": {},
   "outputs": [
    {
     "data": {
      "text/plain": [
       "[{'span': ' 2021년: 육아휴직자 가운데 남성은 20%대였습니다',\n",
       "  'source': '2024.07.14. | 육아휴직 중인 아빠./조선DB 우리나라에서도 육아휴직 제도를 이용하는 아빠들이 과거에 비해 늘긴 했지만, 제도 개선이 더 필요하다는 지적이 나온다. 고용노동부에 따르면, 지난해 전체 육아휴직 사용자 중 남성 비율은 28.0%(3만5336명)로 집계됐다. 7년 전인 2016년만 해도 남성 육아휴직자 비율이 8.7%(7616명)였는데, 20%포인트 가까이 오른 셈이다. 다만 육아휴직을',\n",
       "  'idx': 1,\n",
       "  'start': 178,\n",
       "  'end': 208},\n",
       " {'span': ' 2022년도(2022년 4월~2023년 3월): 일본 남성 국가공무원의 육아휴직률이 70% 선을 처음으로 넘어섰습니다. 일본 요미우리신문은 5일 “일본의 공무원 인사행정 담당 기관인 인사원 집계에 따르면 2022년도(2022년 4월~2023년 3월) 육아휴직을 취득한 남성 공무원(일반직 상근자 기준) 수는 6043명으로 육아휴직 대상자의 72.5%에 달한다”고 밝혔습니다',\n",
       "  'source': '2024.07.06. | 국내, ‘자동 육아휴직제’ 등 강력한 조치 필요 이미지투데이 일본 남성 국가공무원의 육아휴직률이 70% 선을 처음으로 넘어선 것으로 나타났다. 일본 요미우리신문은 5일 “일본의 공무원 인사행정 담당 기관인 인사원 집계에 따르면 2022년도(2022년 4월~2023년 3월) 육아휴직을 취득한 남성 공무원(일반직 상근자 기준) 수는 6043명으로 육아휴직 대상자의 72.5%에 달한다”고',\n",
       "  'idx': 2,\n",
       "  'start': 278,\n",
       "  'end': 487},\n",
       " {'span': ' 2021년: 육아휴직자 가운데 남성은 20%대였습니다',\n",
       "  'source': '2024.07.09. | 한국에서 아빠들은 경제협력개발기구(OECD)에서 가장 긴 육아휴직을 쓸 수 있지만 실제 사용률은 한 자릿수에 그치는 것으로 나타났다. 6일 OECD 자료를 보면 한국은 2021년 기준 육아휴직자 가운데 남성은 20%대였다. 한국의 여성 경제활동 참가율이 약 60%로 OECD 평균에 못 치는 것을 고려하면 저조한 남성 육아휴직자 비율은 더욱 도드라진다. 스웨덴, 아이슬란드, 포르투갈,',\n",
       "  'idx': 3,\n",
       "  'start': 178,\n",
       "  'end': 208},\n",
       " {'span': ' 19년 이전: 스웨덴 남성의 육아 휴직 사용비율은 시행 전 0.5%였습니다',\n",
       "  'source': '2024.07.02. | 이 제도가 시행된 뒤 스웨덴 남성의 육아 휴직 사용비율은 시행 전 0.5%에서 현재 30%까지 올랐다고 AP통신이 전했다. 이러한 노력에도 불구하고, 스웨덴의 합계 출산율은 2021년 1.67명에서 지난해 1.45명으로 줄었다. 이에 스웨덴 정부가 조부모 육아휴직 카드를 꺼내든 것이라고 외신들이...',\n",
       "  'idx': 4,\n",
       "  'start': 799,\n",
       "  'end': 841},\n",
       " {'span': ' 19년 이전: 스웨덴 남성의 육아 휴직 사용비율은 시행 전 0.5%였습니다',\n",
       "  'source': '2024.07.11. | 1. 머리말 ; 스웨덴의 육아휴직제도는 양성평등한 육아휴직 사용을 중시하는 것으로 잘 알려져 있다. 스웨덴에서는 육아휴직제도 도입의 초기 단계에서부터 육아휴직 사용의 양성평등 구현에 대한 논의가 활발했다. 특히 스웨덴 정부는 부모할당제 도입을 통해 남성의 육아휴직 사용 비율을 끌어올렸다. 현재 전체 육아휴직 사용 기간 중 남성의 사용이 차지하는 비율은 27%로 0.5%에 그쳤던 19',\n",
       "  'idx': 5,\n",
       "  'start': 799,\n",
       "  'end': 841}]"
      ]
     },
     "execution_count": 12,
     "metadata": {},
     "output_type": "execute_result"
    }
   ],
   "source": [
    "result"
   ]
  },
  {
   "cell_type": "code",
   "execution_count": 93,
   "metadata": {},
   "outputs": [
    {
     "name": "stdout",
     "output_type": "stream",
     "text": [
      "17\n",
      "2023년 3월): 일본 남성 국가공무원의 육아휴직률이 70% 선을 처음으로 넘어섰습니다. 일본 요미우리신문은 5일 “일본의 공무원 인사행정 담당 기관인 인사원 집계에 따르면 2022년도(2022년 4월~2023년 3월) 육아휴직을 취득한 남성 공무원(일반직 상근자 기준) 수는 6043명으로 육아휴직 대상자의 72.5%에 달한다”고 밝혔습니다\n"
     ]
    }
   ],
   "source": [
    "import diff_match_patch as dmp_module\n",
    "import pylcs\n",
    "\n",
    "i = 1\n",
    "dmp = dmp_module.diff_match_patch()\n",
    "source = result[i][\"source\"]\n",
    "phrase = result[i][\"span\"]\n",
    "idx = dmp.match_main(phrase, source, len(source)//2)\n",
    "print(idx)\n",
    "print(phrase[idx:])"
   ]
  },
  {
   "cell_type": "code",
   "execution_count": 54,
   "metadata": {},
   "outputs": [
    {
     "data": {
      "text/plain": [
       "(229, 209)"
      ]
     },
     "execution_count": 54,
     "metadata": {},
     "output_type": "execute_result"
    }
   ],
   "source": [
    "len(source), len(phrase)"
   ]
  },
  {
   "cell_type": "code",
   "execution_count": 94,
   "metadata": {},
   "outputs": [
    {
     "name": "stdout",
     "output_type": "stream",
     "text": [
      "('2024.07.06. | 국내, ‘자동 육아휴직제’ 등 강력한 조치 필요 이미지투데이 일본 남성 국가공무원의 육아휴직률이 70% 선을 '\n",
      " '처음으로 넘어선 것으로 나타났다. 일본 요미우리신문은 5일 “일본의 공무원 인사행정 담당 기관인 인사원 집계에 따르면 '\n",
      " '2022년도(2022년 4월~2023년 3월) 육아휴직을 취득한 남성 공무원(일반직 상근자 기준) 수는 6043명으로 육아휴직 대상자의 '\n",
      " '72.5%에 달한다”고')\n",
      "('인용구(Phrase)가 피인용원본(Source)와 거의 차이가 없을 정도로 긴 길이를 가지는 경우, Highlight의 범위가 지나치게 '\n",
      " '넓어 의미가 퇴색될 우려가 있습니다. 중요하거나 quote에 대한 재확인이 큰 의미를 가지는 부분만 추출하도록 range 축소를 하는 '\n",
      " '실험을 진행했습니다. 2022년도(2022년 4월~2023년 3월): 일본 남성 국가공무원의 육아휴직률이 70% 선을 처음으로 '\n",
      " '넘어섰습니다. 일본 요미우리신문은 5일 “일본의 공무원 인사행정 담당 기관인 인사원 집계에 따르면 2022년도(2022년 4월~2023년 '\n",
      " '3월) 육아휴직을 취득한 남성 공무원(일반직 상근자 기준) 수는 6043명으로 육아휴직 대상자의 72.5%에 달한다”고 밝혔습니다')\n"
     ]
    }
   ],
   "source": [
    "from pprint import pprint\n",
    "phrase = \"인용구(Phrase)가 피인용원본(Source)와 거의 차이가 없을 정도로 긴 길이를 가지는 경우, Highlight의 범위가 지나치게 넓어 의미가 퇴색될 우려가 있습니다. 중요하거나 quote에 대한 재확인이 큰 의미를 가지는 부분만 추출하도록 range 축소를 하는 실험을 진행했습니다. 2022년도(2022년 4월~2023년 3월): 일본 남성 국가공무원의 육아휴직률이 70% 선을 처음으로 넘어섰습니다. 일본 요미우리신문은 5일 “일본의 공무원 인사행정 담당 기관인 인사원 집계에 따르면 2022년도(2022년 4월~2023년 3월) 육아휴직을 취득한 남성 공무원(일반직 상근자 기준) 수는 6043명으로 육아휴직 대상자의 72.5%에 달한다”고 밝혔습니다\"\n",
    "\n",
    "pprint(source)\n",
    "pprint(phrase)"
   ]
  },
  {
   "cell_type": "code",
   "execution_count": 106,
   "metadata": {},
   "outputs": [
    {
     "name": "stdout",
     "output_type": "stream",
     "text": [
      "179\n",
      "2023년 3월): 일본 남성 국가공무원의 육아휴직률이 70% 선을 처음으로 넘어섰습니다. 일본 요미우리신문은 5일 “일본의 공무원 인사행정 담당 기관인 인사원 집계에 따르면 2022년도(2022년 4월~2023년 3월) 육아휴직을 취득한 남성 공무원(일반직 상근자 기준) 수는 6043명으로 육아휴직 대상자의 72.5%에 달한다”고 밝혔습니다\n"
     ]
    }
   ],
   "source": [
    "idx = dmp.match_main(phrase, source, len(phrase)-1)\n",
    "print(idx)\n",
    "print(phrase[idx:])"
   ]
  },
  {
   "cell_type": "code",
   "execution_count": 82,
   "metadata": {},
   "outputs": [],
   "source": [
    "idx = pylcs.lcs_string_idx(source, phrase)"
   ]
  },
  {
   "cell_type": "code",
   "execution_count": 83,
   "metadata": {},
   "outputs": [
    {
     "data": {
      "text/plain": [
       "'다. 일본 요미우리신문은 5일 “일본의 공무원 인사행정 담당 기관인 인사원 집계에 따르면 2022년도(2022년 4월~2023년 3월) 육아휴직을 취득한 남성 공무원(일반직 상근자 기준) 수는 6043명으로 육아휴직 대상자의 72.5%에 달한다”고'"
      ]
     },
     "execution_count": 83,
     "metadata": {},
     "output_type": "execute_result"
    }
   ],
   "source": [
    "''.join([phrase[i] for i in idx if i != -1])"
   ]
  },
  {
   "cell_type": "code",
   "execution_count": 44,
   "metadata": {},
   "outputs": [
    {
     "data": {
      "text/plain": [
       "229"
      ]
     },
     "execution_count": 44,
     "metadata": {},
     "output_type": "execute_result"
    }
   ],
   "source": [
    "len(idx)"
   ]
  },
  {
   "cell_type": "code",
   "execution_count": 84,
   "metadata": {},
   "outputs": [],
   "source": [
    "from functools import reduce\n",
    "import pylcs\n",
    "def fuzzy_lcs(\n",
    "    a: str,\n",
    "    b: str,\n",
    "    error_tolerance: int = 30,\n",
    "    overlap_tr: float = 0.1,\n",
    "    min_length: int = 10,\n",
    "):\n",
    "    \"\"\"\n",
    "    - find fuzzy lcs match of a and b\n",
    "    - return value: start idx of a\n",
    "    \"\"\"\n",
    "\n",
    "    min_length = min((len(a) * overlap_tr), min_length)\n",
    "\n",
    "    def reducer(acc, curr: int):\n",
    "        if acc:\n",
    "            gap = abs(acc[-1][1] - curr)\n",
    "        else:\n",
    "            gap = 0\n",
    "\n",
    "        if gap >= error_tolerance or not acc:\n",
    "            acc.append([curr, curr])\n",
    "        else:\n",
    "            acc[-1][1] = curr\n",
    "        return acc\n",
    "\n",
    "    matches = (\n",
    "        (start, end)\n",
    "        for (start, end) in reduce(\n",
    "            reducer,\n",
    "            pylcs.lcs_sequence_idx(a, b),\n",
    "            [],  # error counter...\n",
    "        )\n",
    "        if (end - start) > min_length\n",
    "    )\n",
    "\n",
    "    for start_idx, _match_length in matches:\n",
    "        return start_idx, start_idx + _match_length\n",
    "\n",
    "    return -1, -1\n"
   ]
  },
  {
   "cell_type": "code",
   "execution_count": 92,
   "metadata": {},
   "outputs": [
    {
     "data": {
      "text/plain": [
       "' 가지는 경우, Highlight의 범위가 지나치게 넓어 의미가 퇴색될 우려가 있습니다. 중요하거나 quote에 대한 재확인이 큰 의미를 가지는 '"
      ]
     },
     "execution_count": 92,
     "metadata": {},
     "output_type": "execute_result"
    }
   ],
   "source": [
    "start, end = fuzzy_lcs(phrase, source, )\n",
    "phrase[start: end]"
   ]
  },
  {
   "cell_type": "code",
   "execution_count": 56,
   "metadata": {},
   "outputs": [
    {
     "name": "stdout",
     "output_type": "stream",
     "text": [
      "따르면 2022년도(2022년 4월~2023년 3월) 육아휴직을\n"
     ]
    }
   ],
   "source": [
    "from sklearn.feature_extraction.text import TfidfVectorizer\n",
    "from sklearn.metrics.pairwise import cosine_similarity\n",
    "\n",
    "def find_most_relevant_substring(A, B, window_size=10):\n",
    "    # Tokenize the sentences into words\n",
    "    words_A = A.split()\n",
    "    words_B = B.split()\n",
    "    \n",
    "    # Create a list to store the windows\n",
    "    windows = [' '.join(words_A[i:i + window_size]) for i in range(len(words_A) - window_size + 1)]\n",
    "    \n",
    "    # Combine all windows and B into one corpus for vectorization\n",
    "    corpus = windows + [' '.join(words_B)]\n",
    "    \n",
    "    # Vectorize the corpus using TF-IDF\n",
    "    vectorizer = TfidfVectorizer()\n",
    "    tfidf_matrix = vectorizer.fit_transform(corpus)\n",
    "    \n",
    "    # Compute cosine similarity between each window and B\n",
    "    similarities = cosine_similarity(tfidf_matrix[:-1], tfidf_matrix[-1])\n",
    "    \n",
    "    # Find the index of the most similar window\n",
    "    most_similar_index = similarities.argmax()\n",
    "    \n",
    "    # Return the most similar substring\n",
    "    return windows[most_similar_index]\n",
    "\n",
    "# Example usage\n",
    "A = source\n",
    "B = phrase\n",
    "print(find_most_relevant_substring(A, B, window_size=5))"
   ]
  },
  {
   "cell_type": "code",
   "execution_count": 57,
   "metadata": {},
   "outputs": [
    {
     "name": "stderr",
     "output_type": "stream",
     "text": [
      "/Users/user/.miniforge3/envs/diff/lib/python3.11/site-packages/tqdm/auto.py:21: TqdmWarning: IProgress not found. Please update jupyter and ipywidgets. See https://ipywidgets.readthedocs.io/en/stable/user_install.html\n",
      "  from .autonotebook import tqdm as notebook_tqdm\n"
     ]
    },
    {
     "name": "stdout",
     "output_type": "stream",
     "text": [
      "3월) 육아휴직을 취득한 남성 공무원(일반직\n"
     ]
    }
   ],
   "source": [
    "import torch\n",
    "from transformers import BertTokenizer, BertModel\n",
    "\n",
    "def get_bert_embeddings(sentence, model, tokenizer):\n",
    "    inputs = tokenizer(sentence, return_tensors='pt', truncation=True, padding=True)\n",
    "    outputs = model(**inputs)\n",
    "    return outputs.last_hidden_state.mean(dim=1)\n",
    "\n",
    "def find_most_relevant_substring_bert(A, B, window_size=10):\n",
    "    # Tokenize the sentences into words\n",
    "    words_A = A.split()\n",
    "    words_B = B.split()\n",
    "    \n",
    "    # Create a list to store the windows\n",
    "    windows = [' '.join(words_A[i:i + window_size]) for i in range(len(words_A) - window_size + 1)]\n",
    "    \n",
    "    # Load BERT model and tokenizer\n",
    "    tokenizer = BertTokenizer.from_pretrained('bert-base-uncased')\n",
    "    model = BertModel.from_pretrained('bert-base-uncased')\n",
    "    \n",
    "    # Get embeddings for B\n",
    "    B_embedding = get_bert_embeddings(' '.join(words_B), model, tokenizer)\n",
    "    \n",
    "    # Compute cosine similarity between each window and B\n",
    "    max_similarity = -1\n",
    "    most_similar_window = None\n",
    "    \n",
    "    for window in windows:\n",
    "        window_embedding = get_bert_embeddings(window, model, tokenizer)\n",
    "        similarity = cosine_similarity(window_embedding.detach().numpy(), B_embedding.detach().numpy())[0][0]\n",
    "        if similarity > max_similarity:\n",
    "            max_similarity = similarity\n",
    "            most_similar_window = window\n",
    "    \n",
    "    return most_similar_window\n",
    "\n",
    "# Example usage\n",
    "A = source\n",
    "B = phrase\n",
    "print(find_most_relevant_substring_bert(A, B, window_size=5))"
   ]
  },
  {
   "cell_type": "code",
   "execution_count": 73,
   "metadata": {},
   "outputs": [
    {
     "name": "stdout",
     "output_type": "stream",
     "text": [
      "2024.07.06. | 국내, ‘자동 육아휴직제’ 등 강력한 조치 필요 이미지투데이 일본 남성 국가공무원의 육아휴직률이 70% 선을 처음으로 넘어선 것으로 나타났다. 일본 요미우리신문은 5일 “일본의 공무원 인사행정 담당 기관인 인사원 집계에 따르면 2022년도(2022년 4월~2023년 3월) 육아휴직을 취득한 남성 공무원(일반직 상근자 기준) 수는 6043명으로 육아휴직 대상자의 72.5%에 달한다”고\n",
      "\n",
      " 2022년도(2022년 4월~2023년 3월): 일본 남성 국가공무원의 육아휴직률이 70% 선을 처음으로 넘어섰습니다. 일본 요미우리신문은 5일 “일본의 공무원 인사행정 담당 기관인 인사원 집계에 따르면 2022년도(2022년 4월~2023년 3월) 육아휴직을 취득한 남성 공무원(일반직 상근자 기준) 수는 6043명으로 육아휴직 대상자의 72.5%에 달한다”고 밝혔습니다\n",
      "\n"
     ]
    }
   ],
   "source": [
    "print(source)\n",
    "print()\n",
    "print(phrase)\n",
    "print()"
   ]
  },
  {
   "cell_type": "code",
   "execution_count": null,
   "metadata": {},
   "outputs": [],
   "source": [
    "<source>2024.07.06. | 국내, ‘자동 육아휴직제’ 등 강력한 조치 필요 이미지투데이 일본 남성 국가공무원의 육아휴직률이 70% 선을 처음으로 넘어선 것으로 나타났다. 일본 요미우리신문은 5일 “일본의 공무원 인사행정 담당 기관인 인사원 집계에 따르면 2022년도(2022년 4월~2023년 3월) 육아휴직을 취득한 남성 공무원(일반직 상근자 기준) 수는 6043명으로 육아휴직 대상자의 72.5%에 달한다”고\n",
    "<phrase> 2022년도(2022년 4월~2023년 3월): 일본 남성 국가공무원의 육아휴직률이 70% 선을 처음으로 넘어섰습니다. 일본 요미우리신문은 5일 “일본의 공무원 인사행정 담당 기관인 인사원 집계에 따르면 2022년도(2022년 4월~2023년 3월) 육아휴직을 취득한 남성 공무원(일반직 상근자 기준) 수는 6043명으로 육아휴직 대상자의 72.5%에 달한다”고 밝혔습니다\n",
    "\n",
    "phrase 문장은 source 문장을 요약해서 만든 문장입니다. phrase에 나타난 정보 중 가장 중요한 정보를 포함하는 짧은 substring을 phrase 문장에서 추출하고, substring의 index를 알려주세요."
   ]
  },
  {
   "cell_type": "code",
   "execution_count": null,
   "metadata": {},
   "outputs": [],
   "source": [
    "<source>2024.07.06. | 국내, ‘자동 육아휴직제’ 등 강력한 조치 필요 이미지투데이 일본 남성 국가공무원의 육아휴직률이 70% 선을 처음으로 넘어선 것으로 나타났다. 일본 요미우리신문은 5일 “일본의 공무원 인사행정 담당 기관인 인사원 집계에 따르면 2022년도(2022년 4월~2023년 3월) 육아휴직을 취득한 남성 공무원(일반직 상근자 기준) 수는 6043명으로 육아휴직 대상자의 72.5%에 달한다”고\n",
    "<phrase> 2022년도(2022년 4월~2023년 3월): 일본 남성 국가공무원의 육아휴직률이 70% 선을 처음으로 넘어섰습니다. 일본 요미우리신문은 5일 “일본의 공무원 인사행정 담당 기관인 인사원 집계에 따르면 2022년도(2022년 4월~2023년 3월) 육아휴직을 취득한 남성 공무원(일반직 상근자 기준) 수는 6043명으로 육아휴직 대상자의 72.5%에 달한다”고 밝혔습니다\n",
    "\n",
    "phrase 문장은 source 문장을 요약해서 만든 문장입니다. phrase에 나타난 정보 중 가장 중요한 정보를 포함하는 짧은 substring을 phrase 문장에서 추출해 문자의 변경 없이 그대로 출력해주세요."
   ]
  },
  {
   "cell_type": "code",
   "execution_count": null,
   "metadata": {},
   "outputs": [],
   "source": []
  },
  {
   "cell_type": "code",
   "execution_count": 14,
   "metadata": {},
   "outputs": [
    {
     "name": "stdout",
     "output_type": "stream",
     "text": [
      "-1\n",
      "-1\n"
     ]
    }
   ],
   "source": [
    "span = \"2024년 7월 기준 서울시가 시행한 '주택월세계약조사'에 따르면, 서울시내 전입세대의 평균 월세는 7.5만 원입니다\"\n",
    "source = \"2024.07.11. | 서울시가 지난해 8월부터 시행한 ‘주택월세계약조사’를 통해 서울시내 전입세대의 월세계약을 분석한 결과, 업무·학업을 위해서는 비싸더라도 교통이 편리한 지역을 중심으로 거주하는 경향이 확인됐다. ‘주택월세계약조사’는 서울시 25개구 전역에 걸쳐 월세 전입 세입자가 동주민센터에 전입신고 할 때 자율적으로 기재하는 조사 항목으로, 월세계약 실태를 알 수 있는 전국 유일의 자료다. 평균 월\"\n",
    "title = \"서울 평균 월세 7.5만원…가장 비싼 곳은 어디? &gt; 내 손안에 서울 &gt; 서울이야기 &gt; 시민소통 &gt; 정보소통광장\"\n",
    "dmp = dmp_module.diff_match_patch()\n",
    "print(dmp.match_main(source, span, len(source) -1)) \n",
    "print(dmp.match_main(title, span, len(title) -1)) "
   ]
  },
  {
   "cell_type": "code",
   "execution_count": 7,
   "metadata": {},
   "outputs": [
    {
     "data": {
      "text/plain": [
       "' 뒤 스웨덴 남성의 육아 휴직 사용비율은 시행 전 0.5%에서 현재 30%까지 올랐다고 AP통신이 전했다. 이러한 노력에도 불구하고, 스웨덴의 합계 출산율은 2021년 1.67명에서 지난해 1.45명으로 줄었다. 이에 스웨덴 정부가 조부모 육아휴직 카드를 꺼내든 것이라고 외신들이..'"
      ]
     },
     "execution_count": 7,
     "metadata": {},
     "output_type": "execute_result"
    }
   ],
   "source": [
    "source[23:]"
   ]
  },
  {
   "cell_type": "code",
   "execution_count": null,
   "metadata": {},
   "outputs": [],
   "source": []
  }
 ],
 "metadata": {
  "kernelspec": {
   "display_name": "sandbox-test",
   "language": "python",
   "name": "python3"
  },
  "language_info": {
   "codemirror_mode": {
    "name": "ipython",
    "version": 3
   },
   "file_extension": ".py",
   "mimetype": "text/x-python",
   "name": "python",
   "nbconvert_exporter": "python",
   "pygments_lexer": "ipython3",
   "version": "3.11.9"
  }
 },
 "nbformat": 4,
 "nbformat_minor": 2
}

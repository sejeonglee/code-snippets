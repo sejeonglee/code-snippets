{
 "cells": [
  {
   "cell_type": "code",
   "execution_count": 3,
   "metadata": {},
   "outputs": [],
   "source": [
    "from kss import Kss"
   ]
  },
  {
   "cell_type": "code",
   "execution_count": 98,
   "metadata": {},
   "outputs": [
    {
     "data": {
      "text/plain": [
       "['첫번째 문장**입니다.', '그리고 이어지는 두번째**문장입니다.', '세 번째 문장입니다.']"
      ]
     },
     "execution_count": 98,
     "metadata": {},
     "output_type": "execute_result"
    }
   ],
   "source": [
    "sentence_split(\"첫번째 문장**입니다. 그리고 이어지는 두번째**문장입니다. 세 번째 문장입니다.\")"
   ]
  },
  {
   "cell_type": "code",
   "execution_count": 102,
   "metadata": {},
   "outputs": [
    {
     "name": "stdout",
     "output_type": "stream",
     "text": [
      "['1', '2', '3', '4', '5', '6', '11']\n",
      "['최근 VR(가상현실) 및 메타버스에 대한 시장 전망은 매우 밝습니다.', '5G의 등장으로 고품질의 VR과 AR(증강현실) 구현이 가능할 것으로 기대되며, 최근에는 야외 활동의 제한으로 인해 VR과 AR을 이용한 메타버스가 급부상하고 있습니다.', '이러한 기술의 발전과 수요의 증가는 메타버스 시장이 급성장하는 원동력이 되고 있습니다.', '여러 시장 조사 기관의 예측에 따르면, 전 세계 메타버스 시장 규모는 2022년 447억 달러에서 연평균 34.91%의 성장률을 보이며 2030년에는 4,904억 달러 규모까지 증가할 것으로 전망됩니다.', '또한, VR 및 AR 기기의 출하량도 크게 증가하여 2021년 3,700만 대에서 2023년에는 약 7,600만 대까지 판매될 것으로 예상되며, 이는 2019년 약 51조 원 규모에서 2030년에는 1,678조 원으로 약 30배 이상 증가할 것으로 전망됩니다.', '이와 더불어, 중국의 AR 및 VR 시장도 메타버스 붐을 타고 향후 5년간 연평균 44%의 성장률을 보이며 2026년에는 약 16조 5,070억 원 규모에 이를 것으로 전망됩니다']\n"
     ]
    }
   ],
   "source": [
    "import re\n",
    "from kss import Kss\n",
    "\n",
    "\n",
    "path = Path(\"./quotes_samples/paragraph_metaverse.json\")\n",
    "with open(path, \"r\") as f:\n",
    "    data = json.load(f)\n",
    "\n",
    "sentence_split = Kss(\"split_sentences\")\n",
    "answer = data[\"answer\"]\n",
    "\n",
    "\n",
    "\n",
    "for match in re.finditer(r\"((?:<span[^>]*>\\d+</span>)+)\", answer):\n",
    "    # Quotes Idx List\n",
    "    quote_idxs = re.findall(r\"<span[^>]*>(\\d+)</span>\", match.group())\n",
    "\n",
    "    # A Regular Expression that\n",
    "    # excluding linebreaking symbols (ex. 1., 1), >, -) at the head of string\n",
    "    quote_phrase_match = re.search(r\"(?!P<linebreaking_symbols>\\s*(?:\\d+\\.|>|\\-|\\d+\\))\\s+)(?:.*</span>)*(?P<quote_sentences>[^\\|\\n|:]+)$\", answer[:match.start()])\n",
    "    sentences = sentence_split(quote_phrase_match.groups()[0].strip(\". \\n\"))\n",
    "    # Sentences List\n",
    "    print(quote_idxs)\n",
    "    print(sentences)\n",
    "    break\n",
    "\n",
    "\n"
   ]
  },
  {
   "cell_type": "code",
   "execution_count": 103,
   "metadata": {},
   "outputs": [
    {
     "data": {
      "text/plain": [
       "['1', '2', '3', '4', '5', '6', '11']"
      ]
     },
     "execution_count": 103,
     "metadata": {},
     "output_type": "execute_result"
    }
   ],
   "source": [
    "quote_idxs"
   ]
  },
  {
   "cell_type": "code",
   "execution_count": 104,
   "metadata": {},
   "outputs": [
    {
     "data": {
      "text/plain": [
       "['최근 VR(가상현실) 및 메타버스에 대한 시장 전망은 매우 밝습니다.',\n",
       " '5G의 등장으로 고품질의 VR과 AR(증강현실) 구현이 가능할 것으로 기대되며, 최근에는 야외 활동의 제한으로 인해 VR과 AR을 이용한 메타버스가 급부상하고 있습니다.',\n",
       " '이러한 기술의 발전과 수요의 증가는 메타버스 시장이 급성장하는 원동력이 되고 있습니다.',\n",
       " '여러 시장 조사 기관의 예측에 따르면, 전 세계 메타버스 시장 규모는 2022년 447억 달러에서 연평균 34.91%의 성장률을 보이며 2030년에는 4,904억 달러 규모까지 증가할 것으로 전망됩니다.',\n",
       " '또한, VR 및 AR 기기의 출하량도 크게 증가하여 2021년 3,700만 대에서 2023년에는 약 7,600만 대까지 판매될 것으로 예상되며, 이는 2019년 약 51조 원 규모에서 2030년에는 1,678조 원으로 약 30배 이상 증가할 것으로 전망됩니다.',\n",
       " '이와 더불어, 중국의 AR 및 VR 시장도 메타버스 붐을 타고 향후 5년간 연평균 44%의 성장률을 보이며 2026년에는 약 16조 5,070억 원 규모에 이를 것으로 전망됩니다']"
      ]
     },
     "execution_count": 104,
     "metadata": {},
     "output_type": "execute_result"
    }
   ],
   "source": [
    "sentences"
   ]
  },
  {
   "cell_type": "code",
   "execution_count": 192,
   "metadata": {},
   "outputs": [
    {
     "name": "stdout",
     "output_type": "stream",
     "text": [
      "phrase='5G의 등장으로 고품질의 VR과 AR(증강현실) 구현이 가능할 것으로 기대되며, 최근에는 야외 활동의 제한으로 인해 VR과 AR을 이용한 메타버스가 급부상하고 있습니다.'\n",
      "source='출처 - 증권플러스 메타버스 (VR · AR) google 이미지 - 메타버스 ▷ 5G 등장 등으로 고품질 VR·AR 구현이 가능할 것으로 기대 ▷ 최근 야외활동 제한으로 VR·AR를 이용한 메타버스 급부상 ▷ 메타버스 시장은 2025년까지 315조원 시장 형성 전망 VR(가상현실): 가상 현실을 실제처럼 구현하는 기술. AR(증강현실): 현실 세계에 가상의 이미지를 겹쳐서 보여주는'\n",
      "5G 등장 등으로 고품질 VR·AR 구현이 가능할 것으로 기대 ▷ 최근 야외활동 제한으로 VR·AR를 이용한 메타버스 급부상 ▷ 메타버스 시장은 2025년까지 315조원 시장 형성 전망 VR(가상현실): 가상 현실을 실제처럼 구현하는 기술. AR(증강현실): 현실 세계에 가상의 이미지를 겹쳐서 보여주는\n",
      "phrase='여러 시장 조사 기관의 예측에 따르면, 전 세계 메타버스 시장 규모는 2022년 447억 달러에서 연평균 34.91%의 성장률을 보이며 2030년에는 4904억 달러 규모까지 증가할 것으로 전망됩니다.'\n",
      "source='VR, 메타버스? 전망이 어떤가요? 데이터 수집 및 시각화를 전문으로 하는 독일 온라인 플랫폼 Statista에 따르면, 전 세계 메타버스(Metaverse) 시장 규모는 2022년 447억 달러에서 연평균 34.91% 성장률을 보이면서 2030년에는 4904억 달러 규모까지 증가할 것으로 전망되고 있다는데요. 이렇듯 곧 다가올 메타버스 시대에서 VR과 메타버스분야 전문 인재 양성'\n",
      "라인 플랫폼 Statista에 따르면, 전 세계 메타버스(Metaverse) 시장 규모는 2022년 447억 달러에서 연평균 34.91% 성장률을 보이면서 2030년에는 4904억 달러 규모까지 증가할 것으로 전망되고 있다는데요. 이렇듯 곧 다가올 메타버스 시대에서 VR과 메타버스분야 전문 인재 양성\n",
      "phrase='또한, VR 및 AR 기기의 출하량도 크게 증가하여 2021년 3700만 대에서 2023년에는 약 7600만 대까지 판매될 것으로 예상되며, 이는 2019년 약 51조 원 규모에서 2030년에는 1678조 원으로 약 30배 이상 증가할 것으로 전망됩니다.'\n",
      "source='VR 및 AR 기기 출하량 VR 및 AR 기기 출하량은 2021년 3700만 대에서 2023년에는 약 2배인 7600만 대까지 판매할 것으로 예상되며 규모는 2019년 약 51조 원에서 20230년에는 1678조 원으로 약 30배 이상 증가할 것으로 전망하였습니다. VR, AR 시장의 성장은 메타버스 서비스 인기와 무관하지 않습니다 메타버스 서비스를 이용하는데 꼭 필요한 장치가 VR'\n",
      "출하량 VR 및 AR 기기 출하량은 2021년 3700만 대에서 2023년에는 약 2배인 7600만 대까지 판매할 것으로 예상되며 규모는 2019년 약 51조 원에서 20230년에는 1678조 원으로 약 30배 이상 증가할 것으로 전망하였습니다. VR, AR 시장의 성장은 메타버스 서비스 인기와 무관하지 않습니다 메타버스 서비스를 이용하는데 꼭 필요한 장치가 VR\n",
      "phrase='이와 더불어, 중국의 AR 및 VR 시장도 메타버스 붐을 타고 향후 5년간 연평균 44%의 성장률을 보이며 2026년에는 약 16조 5070억 원 규모에 이를 것으로 전망됩니다'\n",
      "source='중국 증강현실(AR)·가상현실(VR) 시장이 메타버스 붐을 타고 향후 몇 년간 폭발적인 성장세를 보일 것이란 전망이 제기됐다. 26일 IDC에 따르면 중국에서 AR·VR 지출액이 2026년까지 5년 간 연복합성장률(CAGR) 43.8%의 높은 높은 속도로 성장해 2026년이면 130억8000만 달러(약 16조 5070억 원)에 이른다. IDC가 집계한 지난해 중국 AR·VR 시장 I'\n",
      "중국 증강현실(AR)·가상현실(VR) 시장이 메타버스 붐을 타고 향후 몇 년간 폭발적인 성장세를 보일 것이란 전망이 제기됐다. 26일 IDC에 따르면 중국에서 AR·VR 지출액이 2026년까지 5년 간 연복합성장률(CAGR) 43.8%의 높은 높은 속도로 성장해 2026년이면 130억8000만 달러(약 16조 5070억 원)에 이른다. IDC가 집계한 지난해 중국 AR·VR 시장 I\n"
     ]
    }
   ],
   "source": [
    "import diff_match_patch as dmp_module\n",
    "import pylcs\n",
    "import re\n",
    "\n",
    "dmp = dmp_module.diff_match_patch()\n",
    "dmp.Match_Threshold = 0.66\n",
    "\n",
    "\n",
    "for q_idx in quote_idxs:\n",
    "    for sentence in sentences:\n",
    "        \n",
    "        source_pat = re.compile(r\"\\d+\\.\\d+\\.\\d+\\. \\| (.*)\")\n",
    "        source = re.match(source_pat, data[\"quotes\"][int(q_idx)-1].get(\"description\")).groups()[0]\n",
    "        source = re.sub(r\"(\\d+),(\\d+)\", r\"\\1\\2\", source)\n",
    "        \n",
    "        phrase = sentence\n",
    "        phrase = re.sub(r\"(\\d+),(\\d+)\", r\"\\1\\2\", phrase)\n",
    "\n",
    "\n",
    "        idx = dmp.match_main(source, phrase, 0)\n",
    "\n",
    "        if idx != -1:\n",
    "            print(f\"{phrase=}\")\n",
    "            print(f\"{source=}\")\n",
    "            print(source[idx:])"
   ]
  },
  {
   "cell_type": "code",
   "execution_count": 189,
   "metadata": {},
   "outputs": [
    {
     "name": "stdout",
     "output_type": "stream",
     "text": [
      "0.66\n",
      "0\n"
     ]
    }
   ],
   "source": [
    "dmp.Match_Threshold = 0.66\n",
    "print(dmp.Match_Threshold)\n",
    "phrase='이와 더불어, 중국의 AR 및 VR 시장도 메타버스 붐을 타고 향후 5년간 연평균 44%의 성장률을 보이며 2026년에는 약 16조 5,070억 원 규모에 이를 것으로 전망됩니다'\n",
    "source='2024.07.20. | 중국 증강현실(AR)·가상현실(VR) 시장이 메타버스 붐을 타고 향후 몇 년간 폭발적인 성장세를 보일 것이란 전망이 제기됐다. 26일 IDC에 따르면 중국에서 AR·VR 지출액이 2026년까지 5년 간 연복합성장률(CAGR) 43.8%의 높은 높은 속도로 성장해 2026년이면 130억8000만 달러(약 16조 5070억 원)에 이른다. IDC가 집계한 지난해 중국 AR·VR 시장 I'\n",
    "\n",
    "source_pat = re.compile(r\"\\d+\\.\\d+\\.\\d+\\. \\| (.*)\")\n",
    "source = re.match(source_pat, source).groups()[0]\n",
    "source = re.sub(r\"(\\d+),(\\d+)\", r\"\\1\\2\", source)\n",
    "\n",
    "phrase = re.sub(r\"(\\d+),(\\d+)\", r\"\\1\\2\", phrase)\n",
    "idx = dmp.match_main(source, phrase, 0)\n",
    "prin\n",
    "print(idx)"
   ]
  },
  {
   "cell_type": "code",
   "execution_count": 153,
   "metadata": {},
   "outputs": [],
   "source": [
    "t = re.match(source_pat, data[\"quotes\"][int(q_idx)-1].get(\"description\")).groups()[0]"
   ]
  },
  {
   "cell_type": "code",
   "execution_count": 165,
   "metadata": {},
   "outputs": [],
   "source": [
    "t = re.sub(r\"(\\d+),(\\d+)\", r\"$1$2\", t)"
   ]
  },
  {
   "cell_type": "code",
   "execution_count": 166,
   "metadata": {},
   "outputs": [
    {
     "data": {
      "text/plain": [
       "'중국 증강현실(AR)·가상현실(VR) 시장이 메타버스 붐을 타고 향후 몇 년간 폭발적인 성장세를 보일 것이란 전망이 제기됐다. 26일 IDC에 따르면 중국에서 AR·VR 지출액이 2026년까지 5년 간 연복합성장률(CAGR) 43.8%의 높은 높은 속도로 성장해 2026년이면 130억8000만 달러(약 16조 5070억 원)에 이른다. IDC가 집계한 지난해 중국 AR·VR 시장 I'"
      ]
     },
     "execution_count": 166,
     "metadata": {},
     "output_type": "execute_result"
    }
   ],
   "source": [
    "t"
   ]
  },
  {
   "cell_type": "code",
   "execution_count": 160,
   "metadata": {},
   "outputs": [],
   "source": [
    "keywords = Kss(\"extract_keywords\")"
   ]
  },
  {
   "cell_type": "code",
   "execution_count": 161,
   "metadata": {},
   "outputs": [
    {
     "data": {
      "text/plain": [
       "['중국', '보일', '시장', '26', '연복']"
      ]
     },
     "execution_count": 161,
     "metadata": {},
     "output_type": "execute_result"
    }
   ],
   "source": [
    "keywords(t, noun_only=False)"
   ]
  },
  {
   "cell_type": "code",
   "execution_count": 162,
   "metadata": {},
   "outputs": [],
   "source": [
    "from mecab import MeCab\n",
    "mecab = MeCab()"
   ]
  },
  {
   "cell_type": "code",
   "execution_count": 164,
   "metadata": {},
   "outputs": [
    {
     "data": {
      "text/plain": [
       "['중국',\n",
       " '증강현실',\n",
       " '(',\n",
       " 'AR',\n",
       " ')',\n",
       " '·',\n",
       " '가상현실',\n",
       " '(',\n",
       " 'VR',\n",
       " ')',\n",
       " '시장',\n",
       " '이',\n",
       " '메타',\n",
       " '버스',\n",
       " '붐',\n",
       " '을',\n",
       " '타',\n",
       " '고',\n",
       " '향후',\n",
       " '몇',\n",
       " '년',\n",
       " '간',\n",
       " '폭발',\n",
       " '적',\n",
       " '인',\n",
       " '성장세',\n",
       " '를',\n",
       " '보일',\n",
       " '것',\n",
       " '이',\n",
       " '란',\n",
       " '전망',\n",
       " '이',\n",
       " '제기',\n",
       " '됐',\n",
       " '다',\n",
       " '.',\n",
       " '26',\n",
       " '일',\n",
       " 'IDC',\n",
       " '에',\n",
       " '따르',\n",
       " '면',\n",
       " '중국',\n",
       " '에서',\n",
       " 'AR',\n",
       " '·',\n",
       " 'VR',\n",
       " '지출액',\n",
       " '이',\n",
       " '2026',\n",
       " '년',\n",
       " '까지',\n",
       " '5',\n",
       " '년',\n",
       " '간',\n",
       " '연복',\n",
       " '합성',\n",
       " '장률',\n",
       " '(',\n",
       " 'CAGR',\n",
       " ')',\n",
       " '43',\n",
       " '.',\n",
       " '8',\n",
       " '%',\n",
       " '의',\n",
       " '높',\n",
       " '은',\n",
       " '높',\n",
       " '은',\n",
       " '속도',\n",
       " '로',\n",
       " '성장',\n",
       " '해',\n",
       " '2026',\n",
       " '년',\n",
       " '이',\n",
       " '면',\n",
       " '130',\n",
       " '억',\n",
       " '8000',\n",
       " '만',\n",
       " '달러',\n",
       " '(',\n",
       " '약',\n",
       " '16',\n",
       " '조',\n",
       " '5070',\n",
       " '억',\n",
       " '원',\n",
       " ')',\n",
       " '에',\n",
       " '이른다',\n",
       " '.',\n",
       " 'IDC',\n",
       " '가',\n",
       " '집계',\n",
       " '한',\n",
       " '지난해',\n",
       " '중국',\n",
       " 'AR',\n",
       " '·',\n",
       " 'VR',\n",
       " '시장',\n",
       " 'I']"
      ]
     },
     "execution_count": 164,
     "metadata": {},
     "output_type": "execute_result"
    }
   ],
   "source": [
    "mecab.morphs(t)"
   ]
  },
  {
   "cell_type": "code",
   "execution_count": null,
   "metadata": {},
   "outputs": [],
   "source": []
  }
 ],
 "metadata": {
  "kernelspec": {
   "display_name": "diff",
   "language": "python",
   "name": "python3"
  },
  "language_info": {
   "codemirror_mode": {
    "name": "ipython",
    "version": 3
   },
   "file_extension": ".py",
   "mimetype": "text/x-python",
   "name": "python",
   "nbconvert_exporter": "python",
   "pygments_lexer": "ipython3",
   "version": "3.11.9"
  }
 },
 "nbformat": 4,
 "nbformat_minor": 2
}

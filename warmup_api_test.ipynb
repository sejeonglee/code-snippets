{
 "cells": [
  {
   "cell_type": "code",
   "execution_count": 1,
   "metadata": {},
   "outputs": [],
   "source": [
    "from pathlib import Path\n",
    "\n",
    "filepath = Path(\"car crash.xlsx\")\n",
    "\n",
    "upload_file = {\n",
    "    \"file\": (\n",
    "        filepath.name,           # filename\n",
    "        open(filepath, \"rb\"),     # file content (BytesIO)\n",
    "        \"application/excel\"             # file multipart type\n",
    "    )\n",
    "}"
   ]
  },
  {
   "cell_type": "code",
   "execution_count": null,
   "metadata": {},
   "outputs": [],
   "source": [
    "import uuid\n",
    "import httpx\n",
    "\n",
    "api_url = \"http://cdlg015.clova.nfra.io:10777/v1\"\n",
    "\n",
    "\n",
    "client = httpx.Client()\n",
    "session_id = str(uuid.uuid4())\n",
    "\n",
    "response = client.post(\n",
    "    f\"{api_url}/files\", params={\"session_id\": session_id}, files=upload_file, timeout=30\n",
    ")"
   ]
  },
  {
   "cell_type": "code",
   "execution_count": null,
   "metadata": {},
   "outputs": [],
   "source": [
    "response"
   ]
  },
  {
   "cell_type": "code",
   "execution_count": null,
   "metadata": {},
   "outputs": [],
   "source": []
  },
  {
   "cell_type": "code",
   "execution_count": null,
   "metadata": {},
   "outputs": [],
   "source": [
    "messages = doc[\"data\"]\n",
    "file_info = doc[\"file_info\"]\n",
    "\n",
    "response = client.post(\n",
    "    f\"{api_url}/warmup\",\n",
    "    json={\"session_id\": session_id, \"messages\": messages, \"file_info\": file_info},\n",
    "    timeout=30,\n",
    ")"
   ]
  }
 ],
 "metadata": {
  "kernelspec": {
   "display_name": "sandbox-test",
   "language": "python",
   "name": "python3"
  },
  "language_info": {
   "codemirror_mode": {
    "name": "ipython",
    "version": 3
   },
   "file_extension": ".py",
   "mimetype": "text/x-python",
   "name": "python",
   "nbconvert_exporter": "python",
   "pygments_lexer": "ipython3",
   "version": "3.11.9"
  }
 },
 "nbformat": 4,
 "nbformat_minor": 2
}

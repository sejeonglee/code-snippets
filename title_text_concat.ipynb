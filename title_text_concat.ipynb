{
 "cells": [
  {
   "cell_type": "code",
   "execution_count": 5,
   "metadata": {},
   "outputs": [
    {
     "ename": "TypeError",
     "evalue": "expected string or bytes-like object, got 'NoneType'",
     "output_type": "error",
     "traceback": [
      "\u001b[0;31m---------------------------------------------------------------------------\u001b[0m",
      "\u001b[0;31mTypeError\u001b[0m                                 Traceback (most recent call last)",
      "Cell \u001b[0;32mIn[5], line 58\u001b[0m\n\u001b[1;32m     54\u001b[0m sentences \u001b[38;5;241m=\u001b[39m sentence_split(quote_phrase_match\u001b[38;5;241m.\u001b[39mgroups()[\u001b[38;5;241m0\u001b[39m]\u001b[38;5;241m.\u001b[39mstrip(\u001b[38;5;124m\"\u001b[39m\u001b[38;5;124m. \u001b[39m\u001b[38;5;130;01m\\n\u001b[39;00m\u001b[38;5;124m\"\u001b[39m))\n\u001b[1;32m     55\u001b[0m \u001b[38;5;66;03m# Sentences List\u001b[39;00m\n\u001b[1;32m     56\u001b[0m \u001b[38;5;66;03m# print(quote_idxs)\u001b[39;00m\n\u001b[1;32m     57\u001b[0m \u001b[38;5;66;03m# print(sentences)\u001b[39;00m\n\u001b[0;32m---> 58\u001b[0m matches\u001b[38;5;241m.\u001b[39mextend(\u001b[43mcartesian_matches\u001b[49m\u001b[43m(\u001b[49m\u001b[43mquote_idxs\u001b[49m\u001b[43m,\u001b[49m\u001b[43m \u001b[49m\u001b[43msentences\u001b[49m\u001b[43m)\u001b[49m)\n",
      "Cell \u001b[0;32mIn[5], line 20\u001b[0m, in \u001b[0;36mcartesian_matches\u001b[0;34m(quote_idxs, sentences)\u001b[0m\n\u001b[1;32m     17\u001b[0m \u001b[38;5;28;01mfor\u001b[39;00m q_idx \u001b[38;5;129;01min\u001b[39;00m quote_idxs:\n\u001b[1;32m     19\u001b[0m     source_pat \u001b[38;5;241m=\u001b[39m re\u001b[38;5;241m.\u001b[39mcompile(\u001b[38;5;124mr\u001b[39m\u001b[38;5;124m\"\u001b[39m\u001b[38;5;124m\\\u001b[39m\u001b[38;5;124md+\u001b[39m\u001b[38;5;124m\\\u001b[39m\u001b[38;5;124m.\u001b[39m\u001b[38;5;124m\\\u001b[39m\u001b[38;5;124md+\u001b[39m\u001b[38;5;124m\\\u001b[39m\u001b[38;5;124m.\u001b[39m\u001b[38;5;124m\\\u001b[39m\u001b[38;5;124md+\u001b[39m\u001b[38;5;124m\\\u001b[39m\u001b[38;5;124m. \u001b[39m\u001b[38;5;124m\\\u001b[39m\u001b[38;5;124m| (.*)\u001b[39m\u001b[38;5;124m\"\u001b[39m)\n\u001b[0;32m---> 20\u001b[0m     source \u001b[38;5;241m=\u001b[39m \u001b[43mre\u001b[49m\u001b[38;5;241;43m.\u001b[39;49m\u001b[43mmatch\u001b[49m\u001b[43m(\u001b[49m\u001b[43msource_pat\u001b[49m\u001b[43m,\u001b[49m\u001b[43m \u001b[49m\u001b[43mdata\u001b[49m\u001b[43m[\u001b[49m\u001b[38;5;124;43m\"\u001b[39;49m\u001b[38;5;124;43mquotes\u001b[39;49m\u001b[38;5;124;43m\"\u001b[39;49m\u001b[43m]\u001b[49m\u001b[43m[\u001b[49m\u001b[38;5;28;43mint\u001b[39;49m\u001b[43m(\u001b[49m\u001b[43mq_idx\u001b[49m\u001b[43m)\u001b[49m\u001b[38;5;241;43m-\u001b[39;49m\u001b[38;5;241;43m1\u001b[39;49m\u001b[43m]\u001b[49m\u001b[38;5;241;43m.\u001b[39;49m\u001b[43mget\u001b[49m\u001b[43m(\u001b[49m\u001b[38;5;124;43m\"\u001b[39;49m\u001b[38;5;124;43mdescription\u001b[39;49m\u001b[38;5;124;43m\"\u001b[39;49m\u001b[43m)\u001b[49m\u001b[43m)\u001b[49m\u001b[38;5;241m.\u001b[39mgroups()[\u001b[38;5;241m0\u001b[39m]\n\u001b[1;32m     21\u001b[0m     source \u001b[38;5;241m=\u001b[39m re\u001b[38;5;241m.\u001b[39msub(\u001b[38;5;124mr\u001b[39m\u001b[38;5;124m\"\u001b[39m\u001b[38;5;124m(\u001b[39m\u001b[38;5;124m\\\u001b[39m\u001b[38;5;124md+),(\u001b[39m\u001b[38;5;124m\\\u001b[39m\u001b[38;5;124md+)\u001b[39m\u001b[38;5;124m\"\u001b[39m, \u001b[38;5;124mr\u001b[39m\u001b[38;5;124m\"\u001b[39m\u001b[38;5;124m\\\u001b[39m\u001b[38;5;124m1\u001b[39m\u001b[38;5;124m\\\u001b[39m\u001b[38;5;124m2\u001b[39m\u001b[38;5;124m\"\u001b[39m, source)\n\u001b[1;32m     23\u001b[0m     phrase \u001b[38;5;241m=\u001b[39m sentence\n",
      "File \u001b[0;32m~/.miniforge3/envs/diff/lib/python3.11/re/__init__.py:166\u001b[0m, in \u001b[0;36mmatch\u001b[0;34m(pattern, string, flags)\u001b[0m\n\u001b[1;32m    163\u001b[0m \u001b[38;5;28;01mdef\u001b[39;00m \u001b[38;5;21mmatch\u001b[39m(pattern, string, flags\u001b[38;5;241m=\u001b[39m\u001b[38;5;241m0\u001b[39m):\n\u001b[1;32m    164\u001b[0m \u001b[38;5;250m    \u001b[39m\u001b[38;5;124;03m\"\"\"Try to apply the pattern at the start of the string, returning\u001b[39;00m\n\u001b[1;32m    165\u001b[0m \u001b[38;5;124;03m    a Match object, or None if no match was found.\"\"\"\u001b[39;00m\n\u001b[0;32m--> 166\u001b[0m     \u001b[38;5;28;01mreturn\u001b[39;00m \u001b[43m_compile\u001b[49m\u001b[43m(\u001b[49m\u001b[43mpattern\u001b[49m\u001b[43m,\u001b[49m\u001b[43m \u001b[49m\u001b[43mflags\u001b[49m\u001b[43m)\u001b[49m\u001b[38;5;241;43m.\u001b[39;49m\u001b[43mmatch\u001b[49m\u001b[43m(\u001b[49m\u001b[43mstring\u001b[49m\u001b[43m)\u001b[49m\n",
      "\u001b[0;31mTypeError\u001b[0m: expected string or bytes-like object, got 'NoneType'"
     ]
    }
   ],
   "source": [
    "import re\n",
    "from kss import Kss\n",
    "\n",
    "import diff_match_patch as dmp_module\n",
    "import pylcs\n",
    "import re\n",
    "from pathlib import Path\n",
    "import json\n",
    "\n",
    "dmp = dmp_module.diff_match_patch()\n",
    "dmp.Match_Threshold = 0.66\n",
    "\n",
    "def cartesian_matches(quote_idxs, sentences):\n",
    "    result = []\n",
    "    for sentence in sentences:\n",
    "        matched_quotes = list()\n",
    "        for q_idx in quote_idxs:\n",
    "            \n",
    "            source_pat = re.compile(r\"\\d+\\.\\d+\\.\\d+\\. \\| (.*)\")\n",
    "            source = re.match(source_pat, data[\"quotes\"][int(q_idx)-1].get(\"description\")).groups()[0]\n",
    "            source = re.sub(r\"(\\d+),(\\d+)\", r\"\\1\\2\", source)\n",
    "            \n",
    "            phrase = sentence\n",
    "            phrase = re.sub(r\"(\\d+),(\\d+)\", r\"\\1\\2\", phrase)\n",
    "\n",
    "\n",
    "            idx = dmp.match_main(source, phrase, 0)\n",
    "\n",
    "            if idx != -1:\n",
    "                print(f\"{phrase=}\")\n",
    "                print(f\"{source=}\")\n",
    "                print(source[idx:])\n",
    "                matched_quotes.append(q_idx)\n",
    "        if matched_quotes:\n",
    "            result.append((sentence, matched_quotes))\n",
    "    return result\n",
    "\n",
    "path = Path(\"./quotes_samples/table_movie.json\")\n",
    "with open(path, \"r\") as f:\n",
    "    data = json.load(f)\n",
    "\n",
    "sentence_split = Kss(\"split_sentences\")\n",
    "answer = data[\"answer\"]\n",
    "\n",
    "\n",
    "matches = []\n",
    "for match in re.finditer(r\"((?:<span[^>]*>\\d+</span>)+)\", answer):\n",
    "    # Quotes Idx List\n",
    "    quote_idxs = re.findall(r\"<span[^>]*>(\\d+)</span>\", match.group())\n",
    "\n",
    "    # A Regular Expression that\n",
    "    # excluding linebreaking symbols (ex. 1., 1), >, -) at the head of string\n",
    "    quote_phrase_match = re.search(r\"(?!P<linebreaking_symbols>\\s*(?:\\d+\\.|>|\\-|\\d+\\))\\s+)(?:.*</span>)*(?P<quote_sentences>[^\\|\\n|:]+)$\", answer[:match.start()])\n",
    "    sentences = sentence_split(quote_phrase_match.groups()[0].strip(\". \\n\"))\n",
    "    # Sentences List\n",
    "    # print(quote_idxs)\n",
    "    # print(sentences)\n",
    "    matches.extend(cartesian_matches(quote_idxs, sentences))\n",
    "\n",
    "\n"
   ]
  },
  {
   "cell_type": "code",
   "execution_count": 4,
   "metadata": {},
   "outputs": [
    {
     "data": {
      "text/plain": [
       "[('5G의 등장으로 고품질의 VR과 AR(증강현실) 구현이 가능할 것으로 기대되며, 최근에는 야외 활동의 제한으로 인해 VR과 AR을 이용한 메타버스가 급부상하고 있습니다.',\n",
       "  ['1']),\n",
       " ('여러 시장 조사 기관의 예측에 따르면, 전 세계 메타버스 시장 규모는 2022년 447억 달러에서 연평균 34.91%의 성장률을 보이며 2030년에는 4,904억 달러 규모까지 증가할 것으로 전망됩니다.',\n",
       "  ['4']),\n",
       " ('또한, VR 및 AR 기기의 출하량도 크게 증가하여 2021년 3,700만 대에서 2023년에는 약 7,600만 대까지 판매될 것으로 예상되며, 이는 2019년 약 51조 원 규모에서 2030년에는 1,678조 원으로 약 30배 이상 증가할 것으로 전망됩니다.',\n",
       "  ['5']),\n",
       " ('이와 더불어, 중국의 AR 및 VR 시장도 메타버스 붐을 타고 향후 5년간 연평균 44%의 성장률을 보이며 2026년에는 약 16조 5,070억 원 규모에 이를 것으로 전망됩니다',\n",
       "  ['11']),\n",
       " ('그러나 일각에서는 메타버스가 6G, 증강현실(AR), 가상현실(VR) 등 현실과 가상을 융합하는 초현실적이고 초저지연 기술을 동반하지 않는 이상, 현재의 성장세를 이어가기 어려울 것이라는 전망도 나오고 있습니다',\n",
       "  ['7']),\n",
       " ('그럼에도 불구하고, 많은 기업들이 메타버스 시장에 진출하고 있으며, 이는 현실 공간이나 사용자 그룹과 접점을 가진 형태에서 현실의 일부를 가상 세계로 확장하고, 이를 서로 연결시키는 개념으로 진화하고 있습니다.',\n",
       "  ['10']),\n",
       " ('이러한 추세는 상상할 수 있는 거의 모든 산업에서 다양한 메타버스가 탄생할 것으로 전망됩니다', ['10'])]"
      ]
     },
     "execution_count": 4,
     "metadata": {},
     "output_type": "execute_result"
    }
   ],
   "source": [
    "matches"
   ]
  },
  {
   "cell_type": "code",
   "execution_count": null,
   "metadata": {},
   "outputs": [],
   "source": []
  }
 ],
 "metadata": {
  "kernelspec": {
   "display_name": "diff",
   "language": "python",
   "name": "python3"
  },
  "language_info": {
   "codemirror_mode": {
    "name": "ipython",
    "version": 3
   },
   "file_extension": ".py",
   "mimetype": "text/x-python",
   "name": "python",
   "nbconvert_exporter": "python",
   "pygments_lexer": "ipython3",
   "version": "3.11.9"
  }
 },
 "nbformat": 4,
 "nbformat_minor": 2
}

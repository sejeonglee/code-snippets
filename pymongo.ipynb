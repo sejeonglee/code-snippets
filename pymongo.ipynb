{
 "cells": [
  {
   "cell_type": "code",
   "execution_count": 3,
   "metadata": {},
   "outputs": [],
   "source": [
    "from pymongo import MongoClient\n",
    "from pprint import pprint"
   ]
  },
  {
   "cell_type": "code",
   "execution_count": 4,
   "metadata": {},
   "outputs": [],
   "source": [
    "client = MongoClient(\"mongodb://10.177.185.218:11011/\")"
   ]
  },
  {
   "cell_type": "code",
   "execution_count": 5,
   "metadata": {},
   "outputs": [],
   "source": [
    "db = client[\"code-browser\"]"
   ]
  },
  {
   "cell_type": "code",
   "execution_count": 6,
   "metadata": {},
   "outputs": [],
   "source": [
    "collection = db[\"240718-datalake-snapshot\"]"
   ]
  },
  {
   "cell_type": "code",
   "execution_count": 7,
   "metadata": {},
   "outputs": [],
   "source": [
    "# 1.\n",
    "pipeline = [\n",
    "{\n",
    "        \"$project\": {\n",
    "            \"source\": 1,\n",
    "            \"system_prompt\": { \"$arrayElemAt\": \n",
    "                [\n",
    "                    {\"$getField\": {\n",
    "                        \"field\": \"candidates\",\n",
    "                        \"input\": { \"$arrayElemAt\": [\"$data\", 1] },\n",
    "                    }},\n",
    "                    0\n",
    "                ]\n",
    "            },\n",
    "        },\n",
    "        \n",
    "    },\n",
    "    {\n",
    "        \"$addFields\": {\n",
    "            \"is_date_cutoff\": {\n",
    "                \"$regexMatch\": {\n",
    "                    \"input\": \"$system_prompt\",\n",
    "                    \"regex\": '.*오늘은 \\\\d+\\\\S \\\\d+\\\\S \\\\d+\\\\S.*'\n",
    "                }\n",
    "            }\n",
    "        }\n",
    "    },\n",
    "    {\n",
    "        \"$project\":{\n",
    "            \"source\": 1,\n",
    "            \"system_prompt_type\": {\n",
    "                \"$cond\": {\n",
    "                    \"if\": \"$is_date_cutoff\",\n",
    "                    \"then\": \"date_cutoff\",\n",
    "                    \"else\": \"$system_prompt\"\n",
    "                }\n",
    "            },\n",
    "            \"system_prompt\": 1\n",
    "        }\n",
    "    },\n",
    "    {\n",
    "        \"$group\": {\n",
    "            \"_id\": {\n",
    "                \"source\": \"$source\",\n",
    "                # \"system_prompt_type\": \"$system_prompt_type\"\n",
    "            },\n",
    "            \"count\": { \"$sum\": 1 },\n",
    "        }\n",
    "    },\n",
    "]\n"
   ]
  },
  {
   "cell_type": "code",
   "execution_count": 8,
   "metadata": {},
   "outputs": [
    {
     "data": {
      "text/plain": [
       "[{'_id': {'source': 'autobrowsing'}, 'count': 726},\n",
       " {'_id': {'source': 'evalstyle_question_2'}, 'count': 233},\n",
       " {'_id': {'source': 'programmers'}, 'count': 75},\n",
       " {'_id': {'source': 'backjun_round2'}, 'count': 618},\n",
       " {'_id': {'source': 'aihub.150.numeric_mr'}, 'count': 69},\n",
       " {'_id': {'source': 'ci_seed'}, 'count': 420},\n",
       " {'_id': {'source': 'chart-to-table'}, 'count': 119},\n",
       " {'_id': {'source': '240613_error_correction'}, 'count': 95},\n",
       " {'_id': {'source': 'python_execution'}, 'count': 45},\n",
       " {'_id': {'source': 'aihub.71565.tableqa'}, 'count': 105},\n",
       " {'_id': {'source': 'unknown-word'}, 'count': 398},\n",
       " {'_id': {'source': 'autobrowsing-mars-distil'}, 'count': 1053},\n",
       " {'_id': {'source': 'evalstyle_question'}, 'count': 7679},\n",
       " {'_id': {'source': 'CodeAct'}, 'count': 437},\n",
       " {'_id': {'source': 'clova_x_seed_input_1064'}, 'count': 1034},\n",
       " {'_id': {'source': 'ab-ci-hybrid'}, 'count': 54},\n",
       " {'_id': {'source': 'autobrowsing-hcd'}, 'count': 1843},\n",
       " {'_id': {'source': 'tooluse-negative'}, 'count': 1056},\n",
       " {'_id': {'source': 'OpenMathInstruct-1'}, 'count': 942},\n",
       " {'_id': {'source': 'programmers_round2'}, 'count': 18},\n",
       " {'_id': {'source': 'speaker.calendar.case1'}, 'count': 29},\n",
       " {'_id': {'source': 'samsung_sw_final'}, 'count': 70},\n",
       " {'_id': {'source': 'autobrowsing-goldenset'}, 'count': 55},\n",
       " {'_id': {'source': 'autobrowsing-tooluse'}, 'count': 489},\n",
       " {'_id': {'source': 'user_agent'}, 'count': 179},\n",
       " {'_id': {'source': 'tableQA'}, 'count': 834},\n",
       " {'_id': {'source': 'backjun'}, 'count': 1087},\n",
       " {'_id': {'source': 'autobrowsing-new-300'}, 'count': 284},\n",
       " {'_id': {'source': 'wtq'}, 'count': 341},\n",
       " {'_id': {'source': 'redteam-tooluse-augmented'}, 'count': 2166}]"
      ]
     },
     "execution_count": 8,
     "metadata": {},
     "output_type": "execute_result"
    }
   ],
   "source": [
    "list(collection.aggregate(pipeline))"
   ]
  },
  {
   "cell_type": "code",
   "execution_count": 9,
   "metadata": {},
   "outputs": [
    {
     "data": {
      "text/plain": [
       "InsertManyResult([{'source': 'backjun_round2'}, {'source': 'ci_seed'}, {'source': 'aihub.150.numeric_mr'}, {'source': 'autobrowsing'}, {'source': 'programmers'}, {'source': 'aihub.71565.tableqa'}, {'source': 'python_execution'}, {'source': 'autobrowsing-mars-distil'}, {'source': 'evalstyle_question'}, {'source': 'unknown-word'}, {'source': 'chart-to-table'}, {'source': '240613_error_correction'}, {'source': 'tooluse-negative'}, {'source': 'OpenMathInstruct-1'}, {'source': 'CodeAct'}, {'source': 'clova_x_seed_input_1064'}, {'source': 'ab-ci-hybrid'}, {'source': 'autobrowsing-hcd'}, {'source': 'autobrowsing-tooluse'}, {'source': 'programmers_round2'}, {'source': 'samsung_sw_final'}, {'source': 'autobrowsing-goldenset'}, {'source': 'speaker.calendar.case1'}, {'source': 'user_agent'}, {'source': 'backjun'}, {'source': 'tableQA'}, {'source': 'autobrowsing-new-300'}, {'source': 'redteam-tooluse-augmented'}, {'source': 'evalstyle_question_2'}, {'source': 'wtq'}], acknowledged=True)"
      ]
     },
     "execution_count": 9,
     "metadata": {},
     "output_type": "execute_result"
    }
   ],
   "source": [
    "write_collection = db[\"analyze-240718-groupby-source\"]\n",
    "\n",
    "write_collection.insert_many(collection.aggregate(pipeline))"
   ]
  },
  {
   "cell_type": "code",
   "execution_count": 50,
   "metadata": {},
   "outputs": [],
   "source": [
    "# 2.\n",
    "result = list(collection.find(\n",
    "{\n",
    "    'data': {\n",
    "        '$elemMatch': {\n",
    "            'content': {\n",
    "                '$regex': '.*<<ImageDisplayed>>.*'\n",
    "            }\n",
    "        }\n",
    "    }\n",
    "}))\n",
    "\n",
    "\n",
    "write_collection = db[\"analyze-240718-image-displayed-turns\"]\n",
    "for doc in result:\n",
    "    traceback_indices = []\n",
    "    for i, turn in enumerate(doc[\"data\"]):\n",
    "        if \"content\" in turn and turn[\"content\"].find(\"<<ImageDisplayed>>\") != -1:\n",
    "            traceback_indices.append(i)\n",
    "    doc[\"target_turn_idx\"] = traceback_indices\n",
    "    write_collection.insert_one(doc)\n",
    "    "
   ]
  },
  {
   "cell_type": "code",
   "execution_count": 60,
   "metadata": {},
   "outputs": [],
   "source": [
    "# 3.\n",
    "result = list(collection.find(\n",
    "{\n",
    "    'data': {\n",
    "        '$elemMatch': {\n",
    "            'content': {\n",
    "                '$regex': '.*Traceback \\(most recent call last\\).*'\n",
    "            }\n",
    "        }\n",
    "    }\n",
    "}))\n",
    "\n",
    "\n",
    "write_collection = db[\"analyze-240718-python-traceback-turns\"]\n",
    "for doc in result:\n",
    "    traceback_indices = []\n",
    "    for i, turn in enumerate(doc[\"data\"]):\n",
    "        if \"content\" in turn and turn[\"content\"].find(\"Traceback (most recent call last)\") != -1:\n",
    "            traceback_indices.append(i)\n",
    "    doc[\"target_turn_idx\"] = traceback_indices\n",
    "    write_collection.insert_one(doc)\n",
    "    "
   ]
  },
  {
   "cell_type": "code",
   "execution_count": null,
   "metadata": {},
   "outputs": [],
   "source": []
  }
 ],
 "metadata": {
  "kernelspec": {
   "display_name": "pymongo",
   "language": "python",
   "name": "python3"
  },
  "language_info": {
   "codemirror_mode": {
    "name": "ipython",
    "version": 3
   },
   "file_extension": ".py",
   "mimetype": "text/x-python",
   "name": "python",
   "nbconvert_exporter": "python",
   "pygments_lexer": "ipython3",
   "version": "3.11.9"
  }
 },
 "nbformat": 4,
 "nbformat_minor": 2
}

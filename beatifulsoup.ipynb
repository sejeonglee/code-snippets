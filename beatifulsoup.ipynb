{
 "cells": [
  {
   "cell_type": "code",
   "execution_count": 22,
   "metadata": {},
   "outputs": [],
   "source": [
    "import re\n",
    "from kss import Kss\n",
    "\n",
    "from pathlib import Path\n",
    "import json\n",
    "\n",
    "path = Path(\"./quotes_samples/table_recipe.json\")\n",
    "with open(path, \"r\") as f:\n",
    "    data = json.load(f)\n",
    "\n",
    "sentence_split = Kss(\"split_sentences\")\n",
    "answer = data[\"answer\"]"
   ]
  },
  {
   "cell_type": "code",
   "execution_count": 6,
   "metadata": {},
   "outputs": [],
   "source": [
    "import pycmarkgfm\n",
    "from pycmarkgfm import options\n",
    "html = pycmarkgfm.gfm_to_html(answer, options=options.sourcepos)"
   ]
  },
  {
   "cell_type": "code",
   "execution_count": 7,
   "metadata": {},
   "outputs": [
    {
     "data": {
      "text/plain": [
       "'<p data-sourcepos=\"1:1-1:82\">김치찌개 레시피에 필요한 재료를 표로 정리해 드리겠습니다.</p>\\n<table data-sourcepos=\"3:1-22:123\">\\n<thead>\\n<tr data-sourcepos=\"3:1-3:16\">\\n<th data-sourcepos=\"3:2-3:9\">재료</th>\\n<th data-sourcepos=\"3:11-3:15\">양</th>\\n</tr>\\n</thead>\\n<tbody>\\n<tr data-sourcepos=\"5:1-5:160\">\\n<td data-sourcepos=\"5:2-5:9\">김치</td>\\n<td data-sourcepos=\"5:11-5:159\">1쪽<!-- raw HTML omitted -->2<!-- raw HTML omitted -->, 280g(1/4 포기)<!-- raw HTML omitted -->6<!-- raw HTML omitted -->, 2컵<!-- raw HTML omitted -->9<!-- raw HTML omitted -->, 2컵<!-- raw HTML omitted -->11<!-- raw HTML omitted --></td>\\n</tr>\\n<tr data-sourcepos=\"6:1-6:284\">\\n<td data-sourcepos=\"6:2-6:15\">돼지고기</td>\\n<td data-sourcepos=\"6:17-6:283\">200g(앞다리 살)<!-- raw HTML omitted -->1<!-- raw HTML omitted -->, 250g<!-- raw HTML omitted -->2<!-- raw HTML omitted -->, 150g(목등심)<!-- raw HTML omitted -->6<!-- raw HTML omitted -->, 200g<!-- raw HTML omitted -->8<!-- raw HTML omitted -->, 200g(또는 소고기)<!-- raw HTML omitted -->9<!-- raw HTML omitted -->, 150g(혹은 소고기)<!-- raw HTML omitted -->11<!-- raw HTML omitted --></td>\\n</tr>\\n<tr data-sourcepos=\"7:1-7:85\">\\n<td data-sourcepos=\"7:2-7:9\">두부</td>\\n<td data-sourcepos=\"7:11-7:84\">반 모<!-- raw HTML omitted -->2<!-- raw HTML omitted -->, 1/2모<!-- raw HTML omitted -->11<!-- raw HTML omitted --></td>\\n</tr>\\n<tr data-sourcepos=\"8:1-8:116\">\\n<td data-sourcepos=\"8:2-8:9\">대파</td>\\n<td data-sourcepos=\"8:11-8:115\">약간<!-- raw HTML omitted -->2<!-- raw HTML omitted -->, 1대<!-- raw HTML omitted -->9<!-- raw HTML omitted -->, 1대<!-- raw HTML omitted -->11<!-- raw HTML omitted --></td>\\n</tr>\\n<tr data-sourcepos=\"9:1-9:85\">\\n<td data-sourcepos=\"9:2-9:9\">된장</td>\\n<td data-sourcepos=\"9:11-9:84\">1스푼<!-- raw HTML omitted -->2<!-- raw HTML omitted -->, 1큰술<!-- raw HTML omitted -->9<!-- raw HTML omitted --></td>\\n</tr>\\n<tr data-sourcepos=\"10:1-10:132\">\\n<td data-sourcepos=\"10:2-10:15\">고춧가루</td>\\n<td data-sourcepos=\"10:17-10:131\">1스푼<!-- raw HTML omitted -->2<!-- raw HTML omitted -->, 1작은술<!-- raw HTML omitted -->6<!-- raw HTML omitted -->, 1큰술<!-- raw HTML omitted -->11<!-- raw HTML omitted --></td>\\n</tr>\\n<tr data-sourcepos=\"11:1-11:90\">\\n<td data-sourcepos=\"11:2-11:9\">설탕</td>\\n<td data-sourcepos=\"11:11-11:89\">반 스푼<!-- raw HTML omitted -->2<!-- raw HTML omitted -->, 0.5스푼<!-- raw HTML omitted -->8<!-- raw HTML omitted --></td>\\n</tr>\\n<tr data-sourcepos=\"12:1-12:50\">\\n<td data-sourcepos=\"12:2-12:12\">새우젓</td>\\n<td data-sourcepos=\"12:14-12:49\">약간<!-- raw HTML omitted -->2<!-- raw HTML omitted --></td>\\n</tr>\\n<tr data-sourcepos=\"13:1-13:92\">\\n<td data-sourcepos=\"13:2-13:16\">다진 마늘</td>\\n<td data-sourcepos=\"13:18-13:91\">1큰술<!-- raw HTML omitted -->6<!-- raw HTML omitted -->, 1큰술<!-- raw HTML omitted -->8<!-- raw HTML omitted --></td>\\n</tr>\\n<tr data-sourcepos=\"14:1-14:51\">\\n<td data-sourcepos=\"14:2-14:12\">생강즙</td>\\n<td data-sourcepos=\"14:14-14:50\">1큰술<!-- raw HTML omitted -->6<!-- raw HTML omitted --></td>\\n</tr>\\n<tr data-sourcepos=\"15:1-15:51\">\\n<td data-sourcepos=\"15:2-15:12\">참기름</td>\\n<td data-sourcepos=\"15:14-15:50\">1큰술<!-- raw HTML omitted -->6<!-- raw HTML omitted --></td>\\n</tr>\\n<tr data-sourcepos=\"16:1-16:82\">\\n<td data-sourcepos=\"16:2-16:9\">양파</td>\\n<td data-sourcepos=\"16:11-16:81\">1/4개<!-- raw HTML omitted -->8<!-- raw HTML omitted -->, 1개<!-- raw HTML omitted -->11<!-- raw HTML omitted --></td>\\n</tr>\\n<tr data-sourcepos=\"17:1-17:52\">\\n<td data-sourcepos=\"17:2-17:15\">청양고추</td>\\n<td data-sourcepos=\"17:17-17:51\">1개<!-- raw HTML omitted -->11<!-- raw HTML omitted --></td>\\n</tr>\\n<tr data-sourcepos=\"18:1-18:57\">\\n<td data-sourcepos=\"18:2-18:20\">물 또는 육수</td>\\n<td data-sourcepos=\"18:22-18:56\">4컵<!-- raw HTML omitted -->11<!-- raw HTML omitted --></td>\\n</tr>\\n<tr data-sourcepos=\"19:1-19:48\">\\n<td data-sourcepos=\"19:2-19:12\">참치캔</td>\\n<td data-sourcepos=\"19:14-19:47\">1개<!-- raw HTML omitted -->5<!-- raw HTML omitted --></td>\\n</tr>\\n<tr data-sourcepos=\"20:1-20:53\">\\n<td data-sourcepos=\"20:2-20:9\">청주</td>\\n<td data-sourcepos=\"20:11-20:52\">15g(1큰술)<!-- raw HTML omitted -->6<!-- raw HTML omitted --></td>\\n</tr>\\n<tr data-sourcepos=\"21:1-21:51\">\\n<td data-sourcepos=\"21:2-21:12\">국간장</td>\\n<td data-sourcepos=\"21:14-21:50\">2스푼<!-- raw HTML omitted -->8<!-- raw HTML omitted --></td>\\n</tr>\\n<tr data-sourcepos=\"22:1-22:123\">\\n<td data-sourcepos=\"22:2-22:16\">채썬 대파</td>\\n<td data-sourcepos=\"22:18-22:122\">반 뿌리(파기름용)<!-- raw HTML omitted -->8<!-- raw HTML omitted -->, 반 뿌리(데코용)<!-- raw HTML omitted -->8<!-- raw HTML omitted --></td>\\n</tr>\\n</tbody>\\n</table>\\n<p data-sourcepos=\"24:1-24:418\">각 레시피마다 재료의 양과 종류가 조금씩 다를 수 있으니, 참고하시기 바랍니다<!-- raw HTML omitted -->1<!-- raw HTML omitted --><!-- raw HTML omitted -->2<!-- raw HTML omitted --><!-- raw HTML omitted -->3<!-- raw HTML omitted --><!-- raw HTML omitted -->4<!-- raw HTML omitted --><!-- raw HTML omitted -->5<!-- raw HTML omitted --><!-- raw HTML omitted -->6<!-- raw HTML omitted --><!-- raw HTML omitted -->7<!-- raw HTML omitted --><!-- raw HTML omitted -->8<!-- raw HTML omitted --><!-- raw HTML omitted -->9<!-- raw HTML omitted --><!-- raw HTML omitted -->10<!-- raw HTML omitted --><!-- raw HTML omitted -->11<!-- raw HTML omitted -->.</p>\\n'"
      ]
     },
     "execution_count": 7,
     "metadata": {},
     "output_type": "execute_result"
    }
   ],
   "source": [
    "html"
   ]
  },
  {
   "cell_type": "code",
   "execution_count": 8,
   "metadata": {},
   "outputs": [
    {
     "data": {
      "text/html": [
       "<p data-sourcepos=\"1:1-1:82\">김치찌개 레시피에 필요한 재료를 표로 정리해 드리겠습니다.</p>\n",
       "<table data-sourcepos=\"3:1-22:123\">\n",
       "<thead>\n",
       "<tr data-sourcepos=\"3:1-3:16\">\n",
       "<th data-sourcepos=\"3:2-3:9\">재료</th>\n",
       "<th data-sourcepos=\"3:11-3:15\">양</th>\n",
       "</tr>\n",
       "</thead>\n",
       "<tbody>\n",
       "<tr data-sourcepos=\"5:1-5:160\">\n",
       "<td data-sourcepos=\"5:2-5:9\">김치</td>\n",
       "<td data-sourcepos=\"5:11-5:159\">1쪽<!-- raw HTML omitted -->2<!-- raw HTML omitted -->, 280g(1/4 포기)<!-- raw HTML omitted -->6<!-- raw HTML omitted -->, 2컵<!-- raw HTML omitted -->9<!-- raw HTML omitted -->, 2컵<!-- raw HTML omitted -->11<!-- raw HTML omitted --></td>\n",
       "</tr>\n",
       "<tr data-sourcepos=\"6:1-6:284\">\n",
       "<td data-sourcepos=\"6:2-6:15\">돼지고기</td>\n",
       "<td data-sourcepos=\"6:17-6:283\">200g(앞다리 살)<!-- raw HTML omitted -->1<!-- raw HTML omitted -->, 250g<!-- raw HTML omitted -->2<!-- raw HTML omitted -->, 150g(목등심)<!-- raw HTML omitted -->6<!-- raw HTML omitted -->, 200g<!-- raw HTML omitted -->8<!-- raw HTML omitted -->, 200g(또는 소고기)<!-- raw HTML omitted -->9<!-- raw HTML omitted -->, 150g(혹은 소고기)<!-- raw HTML omitted -->11<!-- raw HTML omitted --></td>\n",
       "</tr>\n",
       "<tr data-sourcepos=\"7:1-7:85\">\n",
       "<td data-sourcepos=\"7:2-7:9\">두부</td>\n",
       "<td data-sourcepos=\"7:11-7:84\">반 모<!-- raw HTML omitted -->2<!-- raw HTML omitted -->, 1/2모<!-- raw HTML omitted -->11<!-- raw HTML omitted --></td>\n",
       "</tr>\n",
       "<tr data-sourcepos=\"8:1-8:116\">\n",
       "<td data-sourcepos=\"8:2-8:9\">대파</td>\n",
       "<td data-sourcepos=\"8:11-8:115\">약간<!-- raw HTML omitted -->2<!-- raw HTML omitted -->, 1대<!-- raw HTML omitted -->9<!-- raw HTML omitted -->, 1대<!-- raw HTML omitted -->11<!-- raw HTML omitted --></td>\n",
       "</tr>\n",
       "<tr data-sourcepos=\"9:1-9:85\">\n",
       "<td data-sourcepos=\"9:2-9:9\">된장</td>\n",
       "<td data-sourcepos=\"9:11-9:84\">1스푼<!-- raw HTML omitted -->2<!-- raw HTML omitted -->, 1큰술<!-- raw HTML omitted -->9<!-- raw HTML omitted --></td>\n",
       "</tr>\n",
       "<tr data-sourcepos=\"10:1-10:132\">\n",
       "<td data-sourcepos=\"10:2-10:15\">고춧가루</td>\n",
       "<td data-sourcepos=\"10:17-10:131\">1스푼<!-- raw HTML omitted -->2<!-- raw HTML omitted -->, 1작은술<!-- raw HTML omitted -->6<!-- raw HTML omitted -->, 1큰술<!-- raw HTML omitted -->11<!-- raw HTML omitted --></td>\n",
       "</tr>\n",
       "<tr data-sourcepos=\"11:1-11:90\">\n",
       "<td data-sourcepos=\"11:2-11:9\">설탕</td>\n",
       "<td data-sourcepos=\"11:11-11:89\">반 스푼<!-- raw HTML omitted -->2<!-- raw HTML omitted -->, 0.5스푼<!-- raw HTML omitted -->8<!-- raw HTML omitted --></td>\n",
       "</tr>\n",
       "<tr data-sourcepos=\"12:1-12:50\">\n",
       "<td data-sourcepos=\"12:2-12:12\">새우젓</td>\n",
       "<td data-sourcepos=\"12:14-12:49\">약간<!-- raw HTML omitted -->2<!-- raw HTML omitted --></td>\n",
       "</tr>\n",
       "<tr data-sourcepos=\"13:1-13:92\">\n",
       "<td data-sourcepos=\"13:2-13:16\">다진 마늘</td>\n",
       "<td data-sourcepos=\"13:18-13:91\">1큰술<!-- raw HTML omitted -->6<!-- raw HTML omitted -->, 1큰술<!-- raw HTML omitted -->8<!-- raw HTML omitted --></td>\n",
       "</tr>\n",
       "<tr data-sourcepos=\"14:1-14:51\">\n",
       "<td data-sourcepos=\"14:2-14:12\">생강즙</td>\n",
       "<td data-sourcepos=\"14:14-14:50\">1큰술<!-- raw HTML omitted -->6<!-- raw HTML omitted --></td>\n",
       "</tr>\n",
       "<tr data-sourcepos=\"15:1-15:51\">\n",
       "<td data-sourcepos=\"15:2-15:12\">참기름</td>\n",
       "<td data-sourcepos=\"15:14-15:50\">1큰술<!-- raw HTML omitted -->6<!-- raw HTML omitted --></td>\n",
       "</tr>\n",
       "<tr data-sourcepos=\"16:1-16:82\">\n",
       "<td data-sourcepos=\"16:2-16:9\">양파</td>\n",
       "<td data-sourcepos=\"16:11-16:81\">1/4개<!-- raw HTML omitted -->8<!-- raw HTML omitted -->, 1개<!-- raw HTML omitted -->11<!-- raw HTML omitted --></td>\n",
       "</tr>\n",
       "<tr data-sourcepos=\"17:1-17:52\">\n",
       "<td data-sourcepos=\"17:2-17:15\">청양고추</td>\n",
       "<td data-sourcepos=\"17:17-17:51\">1개<!-- raw HTML omitted -->11<!-- raw HTML omitted --></td>\n",
       "</tr>\n",
       "<tr data-sourcepos=\"18:1-18:57\">\n",
       "<td data-sourcepos=\"18:2-18:20\">물 또는 육수</td>\n",
       "<td data-sourcepos=\"18:22-18:56\">4컵<!-- raw HTML omitted -->11<!-- raw HTML omitted --></td>\n",
       "</tr>\n",
       "<tr data-sourcepos=\"19:1-19:48\">\n",
       "<td data-sourcepos=\"19:2-19:12\">참치캔</td>\n",
       "<td data-sourcepos=\"19:14-19:47\">1개<!-- raw HTML omitted -->5<!-- raw HTML omitted --></td>\n",
       "</tr>\n",
       "<tr data-sourcepos=\"20:1-20:53\">\n",
       "<td data-sourcepos=\"20:2-20:9\">청주</td>\n",
       "<td data-sourcepos=\"20:11-20:52\">15g(1큰술)<!-- raw HTML omitted -->6<!-- raw HTML omitted --></td>\n",
       "</tr>\n",
       "<tr data-sourcepos=\"21:1-21:51\">\n",
       "<td data-sourcepos=\"21:2-21:12\">국간장</td>\n",
       "<td data-sourcepos=\"21:14-21:50\">2스푼<!-- raw HTML omitted -->8<!-- raw HTML omitted --></td>\n",
       "</tr>\n",
       "<tr data-sourcepos=\"22:1-22:123\">\n",
       "<td data-sourcepos=\"22:2-22:16\">채썬 대파</td>\n",
       "<td data-sourcepos=\"22:18-22:122\">반 뿌리(파기름용)<!-- raw HTML omitted -->8<!-- raw HTML omitted -->, 반 뿌리(데코용)<!-- raw HTML omitted -->8<!-- raw HTML omitted --></td>\n",
       "</tr>\n",
       "</tbody>\n",
       "</table>\n",
       "<p data-sourcepos=\"24:1-24:418\">각 레시피마다 재료의 양과 종류가 조금씩 다를 수 있으니, 참고하시기 바랍니다<!-- raw HTML omitted -->1<!-- raw HTML omitted --><!-- raw HTML omitted -->2<!-- raw HTML omitted --><!-- raw HTML omitted -->3<!-- raw HTML omitted --><!-- raw HTML omitted -->4<!-- raw HTML omitted --><!-- raw HTML omitted -->5<!-- raw HTML omitted --><!-- raw HTML omitted -->6<!-- raw HTML omitted --><!-- raw HTML omitted -->7<!-- raw HTML omitted --><!-- raw HTML omitted -->8<!-- raw HTML omitted --><!-- raw HTML omitted -->9<!-- raw HTML omitted --><!-- raw HTML omitted -->10<!-- raw HTML omitted --><!-- raw HTML omitted -->11<!-- raw HTML omitted -->.</p>\n"
      ],
      "text/plain": [
       "<IPython.core.display.HTML object>"
      ]
     },
     "execution_count": 8,
     "metadata": {},
     "output_type": "execute_result"
    }
   ],
   "source": [
    "from IPython.display import HTML\n",
    "HTML(html)"
   ]
  },
  {
   "cell_type": "code",
   "execution_count": 9,
   "metadata": {},
   "outputs": [],
   "source": [
    "from bs4 import BeautifulSoup\n",
    "soup = BeautifulSoup(html)"
   ]
  },
  {
   "cell_type": "code",
   "execution_count": 14,
   "metadata": {},
   "outputs": [
    {
     "data": {
      "text/plain": [
       "'1:1-1:82'"
      ]
     },
     "execution_count": 14,
     "metadata": {},
     "output_type": "execute_result"
    }
   ],
   "source": [
    "soup.p[\"data-sourcepos\"]"
   ]
  },
  {
   "cell_type": "code",
   "execution_count": 24,
   "metadata": {},
   "outputs": [
    {
     "name": "stdout",
     "output_type": "stream",
     "text": [
      "김치찌개 레시피에 필요한 재료를 표로 정리해 드리겠습니다.\n",
      "\n",
      "| 재료 | 양 |\n",
      "| --- | --- |\n",
      "| 김치 | 1쪽<span class='style'>2</span>, 280g(1/4 포기)<span class='style'>6</span>, 2컵<span class='style'>9</span>, 2컵<span class='style'>11</span> |\n",
      "| 돼지고기 | 200g(앞다리 살)<span class='style'>1</span>, 250g<span class='style'>2</span>, 150g(목등심)<span class='style'>6</span>, 200g<span class='style'>8</span>, 200g(또는 소고기)<span class='style'>9</span>, 150g(혹은 소고기)<span class='style'>11</span> |\n",
      "| 두부 | 반 모<span class='style'>2</span>, 1/2모<span class='style'>11</span> |\n",
      "| 대파 | 약간<span class='style'>2</span>, 1대<span class='style'>9</span>, 1대<span class='style'>11</span> |\n",
      "| 된장 | 1스푼<span class='style'>2</span>, 1큰술<span class='style'>9</span> |\n",
      "| 고춧가루 | 1스푼<span class='style'>2</span>, 1작은술<span class='style'>6</span>, 1큰술<span class='style'>11</span> |\n",
      "| 설탕 | 반 스푼<span class='style'>2</span>, 0.5스푼<span class='style'>8</span> |\n",
      "| 새우젓 | 약간<span class='style'>2</span> |\n",
      "| 다진 마늘 | 1큰술<span class='style'>6</span>, 1큰술<span class='style'>8</span> |\n",
      "| 생강즙 | 1큰술<span class='style'>6</span> |\n",
      "| 참기름 | 1큰술<span class='style'>6</span> |\n",
      "| 양파 | 1/4개<span class='style'>8</span>, 1개<span class='style'>11</span> |\n",
      "| 청양고추 | 1개<span class='style'>11</span> |\n",
      "| 물 또는 육수 | 4컵<span class='style'>11</span> |\n",
      "| 참치캔 | 1개<span class='style'>5</span> |\n",
      "| 청주 | 15g(1큰술)<span class='style'>6</span> |\n",
      "| 국간장 | 2스푼<span class='style'>8</span> |\n",
      "| 채썬 대파 | 반 뿌리(파기름용)<span class='style'>8</span>, 반 뿌리(데코용)<span class='style'>8</span> |\n",
      "\n",
      "각 레시피마다 재료의 양과 종류가 조금씩 다를 수 있으니, 참고하시기 바랍니다<span class='style'>1</span><span class='style'>2</span><span class='style'>3</span><span class='style'>4</span><span class='style'>5</span><span class='style'>6</span><span class='style'>7</span><span class='style'>8</span><span class='style'>9</span><span class='style'>10</span><span class='style'>11</span>.\n",
      "79\n"
     ]
    }
   ],
   "source": [
    "print(answer)\n",
    "print((4+4+3+3+2+3+5)*3+6+1)"
   ]
  },
  {
   "cell_type": "code",
   "execution_count": 4,
   "metadata": {},
   "outputs": [
    {
     "name": "stdout",
     "output_type": "stream",
     "text": [
      "<p data-sourcepos=\"1:1-1:19\">글자수 판별123</p>\n",
      "\n"
     ]
    }
   ],
   "source": [
    "import pycmarkgfm\n",
    "from pycmarkgfm import options\n",
    "html = pycmarkgfm.gfm_to_html(\"글자수 판별123\", options=options.sourcepos)\n",
    "print(html)"
   ]
  },
  {
   "cell_type": "code",
   "execution_count": 7,
   "metadata": {},
   "outputs": [
    {
     "name": "stdout",
     "output_type": "stream",
     "text": [
      "<p data-sourcepos=\"1:1-1:10\">12345-&gt;%^&amp;</p>\n",
      "\n"
     ]
    }
   ],
   "source": [
    "html = pycmarkgfm.gfm_to_html(\"12345->%^&\", options=options.sourcepos)\n",
    "print(html)"
   ]
  },
  {
   "cell_type": "code",
   "execution_count": 20,
   "metadata": {},
   "outputs": [
    {
     "name": "stdout",
     "output_type": "stream",
     "text": [
      "The text from index 0 to 17 is: Hello 안녕하세요 World\n"
     ]
    }
   ],
   "source": [
    "import pycmarkgfm\n",
    "from bs4 import BeautifulSoup\n",
    "\n",
    "def create_byte_to_char_map(markdown_string):\n",
    "    byte_to_char = {}\n",
    "    char_pos = 0\n",
    "    for byte_pos, byte in enumerate(markdown_string.encode('utf-8')):\n",
    "        byte_to_char[byte_pos] = char_pos\n",
    "        if byte >> 6 != 0b10:  # This is the start of a new UTF-8 character\n",
    "            char_pos += 1\n",
    "    return byte_to_char\n",
    "\n",
    "def sourcepos_to_string_indices(markdown_string, sourcepos):\n",
    "    byte_to_char = create_byte_to_char_map(markdown_string)\n",
    "    \n",
    "    start, end = sourcepos.split('-')\n",
    "    start_line, start_col = map(int, start.split(':'))\n",
    "    end_line, end_col = map(int, end.split(':'))\n",
    "    \n",
    "    lines = markdown_string.split('\\n')\n",
    "    \n",
    "    start_byte = sum(len(line.encode('utf-8')) + 1 for line in lines[:start_line-1])\n",
    "    start_byte += len(lines[start_line-1][:start_col-1].encode('utf-8'))\n",
    "    \n",
    "    end_byte = sum(len(line.encode('utf-8')) + 1 for line in lines[:end_line-1])\n",
    "    end_byte += len(lines[end_line-1][:end_col-1].encode('utf-8'))\n",
    "    \n",
    "    return byte_to_char[start_byte], byte_to_char[end_byte]\n",
    "\n",
    "# Example usage\n",
    "markdown = \"Hello 안녕하세요 World\\n\\nThis is a new line\"\n",
    "html = pycmarkgfm.gfm_to_html(markdown, options=options.sourcepos|options.smart)\n",
    "\n",
    "soup = BeautifulSoup(html)\n",
    "\n",
    "# Let's say we extracted this sourcepos from an HTML element\n",
    "sourcepos = soup.p[\"data-sourcepos\"]  # This should correspond to \"안녕하세요\" in the first line\n",
    "\n",
    "start_index, end_index = sourcepos_to_string_indices(markdown, sourcepos)\n",
    "print(f\"The text from index {start_index} to {end_index} is: {markdown[start_index:end_index]}\")"
   ]
  },
  {
   "cell_type": "code",
   "execution_count": 17,
   "metadata": {},
   "outputs": [
    {
     "data": {
      "text/plain": [
       "'<p data-sourcepos=\"1:1-1:27\">Hello 안녕하세요 World</p>\\n<p data-sourcepos=\"3:1-3:18\">This is a new line</p>\\n'"
      ]
     },
     "execution_count": 17,
     "metadata": {},
     "output_type": "execute_result"
    }
   ],
   "source": [
    "html"
   ]
  },
  {
   "cell_type": "code",
   "execution_count": 53,
   "metadata": {},
   "outputs": [
    {
     "ename": "KeyError",
     "evalue": "1333",
     "output_type": "error",
     "traceback": [
      "\u001b[0;31m---------------------------------------------------------------------------\u001b[0m",
      "\u001b[0;31mKeyError\u001b[0m                                  Traceback (most recent call last)",
      "Cell \u001b[0;32mIn[53], line 17\u001b[0m\n\u001b[1;32m     14\u001b[0m \u001b[38;5;66;03m# Let's say we extracted this sourcepos from an HTML element\u001b[39;00m\n\u001b[1;32m     15\u001b[0m sourcepos \u001b[38;5;241m=\u001b[39m soup\u001b[38;5;241m.\u001b[39mfind_all(\u001b[38;5;124m\"\u001b[39m\u001b[38;5;124mp\u001b[39m\u001b[38;5;124m\"\u001b[39m)[\u001b[38;5;241m1\u001b[39m][\u001b[38;5;124m\"\u001b[39m\u001b[38;5;124mdata-sourcepos\u001b[39m\u001b[38;5;124m\"\u001b[39m]\n\u001b[0;32m---> 17\u001b[0m start_index, end_index \u001b[38;5;241m=\u001b[39m \u001b[43msourcepos_to_string_indices\u001b[49m\u001b[43m(\u001b[49m\u001b[43mmarkdown\u001b[49m\u001b[43m,\u001b[49m\u001b[43m \u001b[49m\u001b[43msourcepos\u001b[49m\u001b[43m)\u001b[49m\n\u001b[1;32m     18\u001b[0m \u001b[38;5;28mprint\u001b[39m(\u001b[38;5;124mf\u001b[39m\u001b[38;5;124m\"\u001b[39m\u001b[38;5;124mThe text from index \u001b[39m\u001b[38;5;132;01m{\u001b[39;00mstart_index\u001b[38;5;132;01m}\u001b[39;00m\u001b[38;5;124m to \u001b[39m\u001b[38;5;132;01m{\u001b[39;00mend_index\u001b[38;5;132;01m}\u001b[39;00m\u001b[38;5;124m is: \u001b[39m\u001b[38;5;132;01m{\u001b[39;00mmarkdown[start_index:end_index]\u001b[38;5;132;01m}\u001b[39;00m\u001b[38;5;124m\"\u001b[39m)\n",
      "Cell \u001b[0;32mIn[20], line 28\u001b[0m, in \u001b[0;36msourcepos_to_string_indices\u001b[0;34m(markdown_string, sourcepos)\u001b[0m\n\u001b[1;32m     25\u001b[0m end_byte \u001b[38;5;241m=\u001b[39m \u001b[38;5;28msum\u001b[39m(\u001b[38;5;28mlen\u001b[39m(line\u001b[38;5;241m.\u001b[39mencode(\u001b[38;5;124m'\u001b[39m\u001b[38;5;124mutf-8\u001b[39m\u001b[38;5;124m'\u001b[39m)) \u001b[38;5;241m+\u001b[39m \u001b[38;5;241m1\u001b[39m \u001b[38;5;28;01mfor\u001b[39;00m line \u001b[38;5;129;01min\u001b[39;00m lines[:end_line\u001b[38;5;241m-\u001b[39m\u001b[38;5;241m1\u001b[39m])\n\u001b[1;32m     26\u001b[0m end_byte \u001b[38;5;241m+\u001b[39m\u001b[38;5;241m=\u001b[39m \u001b[38;5;28mlen\u001b[39m(lines[end_line\u001b[38;5;241m-\u001b[39m\u001b[38;5;241m1\u001b[39m][:end_col\u001b[38;5;241m-\u001b[39m\u001b[38;5;241m1\u001b[39m]\u001b[38;5;241m.\u001b[39mencode(\u001b[38;5;124m'\u001b[39m\u001b[38;5;124mutf-8\u001b[39m\u001b[38;5;124m'\u001b[39m))\n\u001b[0;32m---> 28\u001b[0m \u001b[38;5;28;01mreturn\u001b[39;00m byte_to_char[start_byte], \u001b[43mbyte_to_char\u001b[49m\u001b[43m[\u001b[49m\u001b[43mend_byte\u001b[49m\u001b[43m]\u001b[49m\n",
      "\u001b[0;31mKeyError\u001b[0m: 1333"
     ]
    }
   ],
   "source": [
    "path = Path(\"./quotes_samples/bullet_rag.json\")\n",
    "with open(path, \"r\") as f:\n",
    "    data = json.load(f)\n",
    "\n",
    "sentence_split = Kss(\"split_sentences\")\n",
    "answer = data[\"answer\"]\n",
    "\n",
    "# Example usage\n",
    "markdown = answer\n",
    "html = pycmarkgfm.gfm_to_html(markdown, options=options.sourcepos|options.smart)\n",
    "\n",
    "soup = BeautifulSoup(html)\n",
    "\n",
    "# Let's say we extracted this sourcepos from an HTML element\n",
    "sourcepos = soup.find_all(\"p\")[1][\"data-sourcepos\"]\n",
    "\n",
    "start_index, end_index = sourcepos_to_string_indices(markdown, sourcepos)\n",
    "print(f\"The text from index {start_index} to {end_index} is: {markdown[start_index:end_index]}\")"
   ]
  },
  {
   "cell_type": "code",
   "execution_count": 54,
   "metadata": {},
   "outputs": [
    {
     "data": {
      "text/plain": [
       "<p data-sourcepos=\"12:1-12:77\">RAG에 대해 더 궁금한 점이 있으시면 언제든지 물어보세요.</p>"
      ]
     },
     "execution_count": 54,
     "metadata": {},
     "output_type": "execute_result"
    }
   ],
   "source": [
    "soup.find_all(\"p\")[1]"
   ]
  },
  {
   "cell_type": "code",
   "execution_count": 51,
   "metadata": {},
   "outputs": [
    {
     "data": {
      "text/html": [
       "<p data-sourcepos=\"1:1-1:82\">김치찌개 레시피에 필요한 재료를 표로 정리해 드리겠습니다.</p>\n",
       "<table data-sourcepos=\"3:1-22:175\">\n",
       "<thead>\n",
       "<tr data-sourcepos=\"3:1-3:16\">\n",
       "<th data-sourcepos=\"3:2-3:9\">재료</th>\n",
       "<th data-sourcepos=\"3:11-3:15\">양</th>\n",
       "</tr>\n",
       "</thead>\n",
       "<tbody>\n",
       "<tr data-sourcepos=\"5:1-5:264\">\n",
       "<td data-sourcepos=\"5:2-5:9\">김치</td>\n",
       "<td data-sourcepos=\"5:11-5:263\">1쪽<!-- raw HTML omitted -->2<!-- raw HTML omitted -->, 280g(1/4 포기)<!-- raw HTML omitted -->6<!-- raw HTML omitted -->, 2컵<!-- raw HTML omitted -->9<!-- raw HTML omitted -->, 2컵<!-- raw HTML omitted -->11<!-- raw HTML omitted --></td>\n",
       "</tr>\n",
       "<tr data-sourcepos=\"6:1-6:440\">\n",
       "<td data-sourcepos=\"6:2-6:15\">돼지고기</td>\n",
       "<td data-sourcepos=\"6:17-6:439\">200g(앞다리 살)<!-- raw HTML omitted -->1<!-- raw HTML omitted -->, 250g<!-- raw HTML omitted -->2<!-- raw HTML omitted -->, 150g(목등심)<!-- raw HTML omitted -->6<!-- raw HTML omitted -->, 200g<!-- raw HTML omitted -->8<!-- raw HTML omitted -->, 200g(또는 소고기)<!-- raw HTML omitted -->9<!-- raw HTML omitted -->, 150g(혹은 소고기)<!-- raw HTML omitted -->11<!-- raw HTML omitted --></td>\n",
       "</tr>\n",
       "<tr data-sourcepos=\"7:1-7:137\">\n",
       "<td data-sourcepos=\"7:2-7:9\">두부</td>\n",
       "<td data-sourcepos=\"7:11-7:136\">반 모<!-- raw HTML omitted -->2<!-- raw HTML omitted -->, 1/2모<!-- raw HTML omitted -->11<!-- raw HTML omitted --></td>\n",
       "</tr>\n",
       "<tr data-sourcepos=\"8:1-8:194\">\n",
       "<td data-sourcepos=\"8:2-8:9\">대파</td>\n",
       "<td data-sourcepos=\"8:11-8:193\">약간<!-- raw HTML omitted -->2<!-- raw HTML omitted -->, 1대<!-- raw HTML omitted -->9<!-- raw HTML omitted -->, 1대<!-- raw HTML omitted -->11<!-- raw HTML omitted --></td>\n",
       "</tr>\n",
       "<tr data-sourcepos=\"9:1-9:137\">\n",
       "<td data-sourcepos=\"9:2-9:9\">된장</td>\n",
       "<td data-sourcepos=\"9:11-9:136\">1스푼<!-- raw HTML omitted -->2<!-- raw HTML omitted -->, 1큰술<!-- raw HTML omitted -->9<!-- raw HTML omitted --></td>\n",
       "</tr>\n",
       "<tr data-sourcepos=\"10:1-10:210\">\n",
       "<td data-sourcepos=\"10:2-10:15\">고춧가루</td>\n",
       "<td data-sourcepos=\"10:17-10:209\">1스푼<!-- raw HTML omitted -->2<!-- raw HTML omitted -->, 1작은술<!-- raw HTML omitted -->6<!-- raw HTML omitted -->, 1큰술<!-- raw HTML omitted -->11<!-- raw HTML omitted --></td>\n",
       "</tr>\n",
       "<tr data-sourcepos=\"11:1-11:142\">\n",
       "<td data-sourcepos=\"11:2-11:9\">설탕</td>\n",
       "<td data-sourcepos=\"11:11-11:141\">반 스푼<!-- raw HTML omitted -->2<!-- raw HTML omitted -->, 0.5스푼<!-- raw HTML omitted -->8<!-- raw HTML omitted --></td>\n",
       "</tr>\n",
       "<tr data-sourcepos=\"12:1-12:76\">\n",
       "<td data-sourcepos=\"12:2-12:12\">새우젓</td>\n",
       "<td data-sourcepos=\"12:14-12:75\">약간<!-- raw HTML omitted -->2<!-- raw HTML omitted --></td>\n",
       "</tr>\n",
       "<tr data-sourcepos=\"13:1-13:144\">\n",
       "<td data-sourcepos=\"13:2-13:16\">다진 마늘</td>\n",
       "<td data-sourcepos=\"13:18-13:143\">1큰술<!-- raw HTML omitted -->6<!-- raw HTML omitted -->, 1큰술<!-- raw HTML omitted -->8<!-- raw HTML omitted --></td>\n",
       "</tr>\n",
       "<tr data-sourcepos=\"14:1-14:77\">\n",
       "<td data-sourcepos=\"14:2-14:12\">생강즙</td>\n",
       "<td data-sourcepos=\"14:14-14:76\">1큰술<!-- raw HTML omitted -->6<!-- raw HTML omitted --></td>\n",
       "</tr>\n",
       "<tr data-sourcepos=\"15:1-15:77\">\n",
       "<td data-sourcepos=\"15:2-15:12\">참기름</td>\n",
       "<td data-sourcepos=\"15:14-15:76\">1큰술<!-- raw HTML omitted -->6<!-- raw HTML omitted --></td>\n",
       "</tr>\n",
       "<tr data-sourcepos=\"16:1-16:134\">\n",
       "<td data-sourcepos=\"16:2-16:9\">양파</td>\n",
       "<td data-sourcepos=\"16:11-16:133\">1/4개<!-- raw HTML omitted -->8<!-- raw HTML omitted -->, 1개<!-- raw HTML omitted -->11<!-- raw HTML omitted --></td>\n",
       "</tr>\n",
       "<tr data-sourcepos=\"17:1-17:78\">\n",
       "<td data-sourcepos=\"17:2-17:15\">청양고추</td>\n",
       "<td data-sourcepos=\"17:17-17:77\">1개<!-- raw HTML omitted -->11<!-- raw HTML omitted --></td>\n",
       "</tr>\n",
       "<tr data-sourcepos=\"18:1-18:83\">\n",
       "<td data-sourcepos=\"18:2-18:20\">물 또는 육수</td>\n",
       "<td data-sourcepos=\"18:22-18:82\">4컵<!-- raw HTML omitted -->11<!-- raw HTML omitted --></td>\n",
       "</tr>\n",
       "<tr data-sourcepos=\"19:1-19:74\">\n",
       "<td data-sourcepos=\"19:2-19:12\">참치캔</td>\n",
       "<td data-sourcepos=\"19:14-19:73\">1개<!-- raw HTML omitted -->5<!-- raw HTML omitted --></td>\n",
       "</tr>\n",
       "<tr data-sourcepos=\"20:1-20:79\">\n",
       "<td data-sourcepos=\"20:2-20:9\">청주</td>\n",
       "<td data-sourcepos=\"20:11-20:78\">15g(1큰술)<!-- raw HTML omitted -->6<!-- raw HTML omitted --></td>\n",
       "</tr>\n",
       "<tr data-sourcepos=\"21:1-21:77\">\n",
       "<td data-sourcepos=\"21:2-21:12\">국간장</td>\n",
       "<td data-sourcepos=\"21:14-21:76\">2스푼<!-- raw HTML omitted -->8<!-- raw HTML omitted --></td>\n",
       "</tr>\n",
       "<tr data-sourcepos=\"22:1-22:175\">\n",
       "<td data-sourcepos=\"22:2-22:16\">채썬 대파</td>\n",
       "<td data-sourcepos=\"22:18-22:174\">반 뿌리(파기름용)<!-- raw HTML omitted -->8<!-- raw HTML omitted -->, 반 뿌리(데코용)<!-- raw HTML omitted -->8<!-- raw HTML omitted --></td>\n",
       "</tr>\n",
       "</tbody>\n",
       "</table>\n",
       "<p data-sourcepos=\"24:1-24:704\">각 레시피마다 재료의 양과 종류가 조금씩 다를 수 있으니, 참고하시기 바랍니다<!-- raw HTML omitted -->1<!-- raw HTML omitted --><!-- raw HTML omitted -->2<!-- raw HTML omitted --><!-- raw HTML omitted -->3<!-- raw HTML omitted --><!-- raw HTML omitted -->4<!-- raw HTML omitted --><!-- raw HTML omitted -->5<!-- raw HTML omitted --><!-- raw HTML omitted -->6<!-- raw HTML omitted --><!-- raw HTML omitted -->7<!-- raw HTML omitted --><!-- raw HTML omitted -->8<!-- raw HTML omitted --><!-- raw HTML omitted -->9<!-- raw HTML omitted --><!-- raw HTML omitted -->10<!-- raw HTML omitted --><!-- raw HTML omitted -->11<!-- raw HTML omitted -->.</p>\n"
      ],
      "text/plain": [
       "<IPython.core.display.HTML object>"
      ]
     },
     "execution_count": 51,
     "metadata": {},
     "output_type": "execute_result"
    }
   ],
   "source": [
    "from IPython.display import HTML\n",
    "HTML(html)"
   ]
  },
  {
   "cell_type": "code",
   "execution_count": 52,
   "metadata": {},
   "outputs": [
    {
     "name": "stdout",
     "output_type": "stream",
     "text": [
      "김치찌개 레시피에 필요한 재료를 표로 정리해 드리겠습니다.\n",
      "\n",
      "| 재료 | 양 |\n",
      "| --- | --- |\n",
      "| 김치 | 1쪽<span class='quote' style='font-weight: bold'>2</span>, 280g(1/4 포기)<span class='quote' style='font-weight: bold'>6</span>, 2컵<span class='quote' style='font-weight: bold'>9</span>, 2컵<span class='quote' style='font-weight: bold'>11</span> |\n",
      "| 돼지고기 | 200g(앞다리 살)<span class='quote' style='font-weight: bold'>1</span>, 250g<span class='quote' style='font-weight: bold'>2</span>, 150g(목등심)<span class='quote' style='font-weight: bold'>6</span>, 200g<span class='quote' style='font-weight: bold'>8</span>, 200g(또는 소고기)<span class='quote' style='font-weight: bold'>9</span>, 150g(혹은 소고기)<span class='quote' style='font-weight: bold'>11</span> |\n",
      "| 두부 | 반 모<span class='quote' style='font-weight: bold'>2</span>, 1/2모<span class='quote' style='font-weight: bold'>11</span> |\n",
      "| 대파 | 약간<span class='quote' style='font-weight: bold'>2</span>, 1대<span class='quote' style='font-weight: bold'>9</span>, 1대<span class='quote' style='font-weight: bold'>11</span> |\n",
      "| 된장 | 1스푼<span class='quote' style='font-weight: bold'>2</span>, 1큰술<span class='quote' style='font-weight: bold'>9</span> |\n",
      "| 고춧가루 | 1스푼<span class='quote' style='font-weight: bold'>2</span>, 1작은술<span class='quote' style='font-weight: bold'>6</span>, 1큰술<span class='quote' style='font-weight: bold'>11</span> |\n",
      "| 설탕 | 반 스푼<span class='quote' style='font-weight: bold'>2</span>, 0.5스푼<span class='quote' style='font-weight: bold'>8</span> |\n",
      "| 새우젓 | 약간<span class='quote' style='font-weight: bold'>2</span> |\n",
      "| 다진 마늘 | 1큰술<span class='quote' style='font-weight: bold'>6</span>, 1큰술<span class='quote' style='font-weight: bold'>8</span> |\n",
      "| 생강즙 | 1큰술<span class='quote' style='font-weight: bold'>6</span> |\n",
      "| 참기름 | 1큰술<span class='quote' style='font-weight: bold'>6</span> |\n",
      "| 양파 | 1/4개<span class='quote' style='font-weight: bold'>8</span>, 1개<span class='quote' style='font-weight: bold'>11</span> |\n",
      "| 청양고추 | 1개<span class='quote' style='font-weight: bold'>11</span> |\n",
      "| 물 또는 육수 | 4컵<span class='quote' style='font-weight: bold'>11</span> |\n",
      "| 참치캔 | 1개<span class='quote' style='font-weight: bold'>5</span> |\n",
      "| 청주 | 15g(1큰술)<span class='quote' style='font-weight: bold'>6</span> |\n",
      "| 국간장 | 2스푼<span class='quote' style='font-weight: bold'>8</span> |\n",
      "| 채썬 대파 | 반 뿌리(파기름용)<span class='quote' style='font-weight: bold'>8</span>, 반 뿌리(데코용)<span class='quote' style='font-weight: bold'>8</span> |\n",
      "\n",
      "각 레시피마다 재료의 양과 종류가 조금씩 다를 수 있으니, 참고하시기 바랍니다<span class='quote' style='font-weight: bold'>1</span><span class='quote' style='font-weight: bold'>2</span><span class='quote' style='font-weight: bold'>3</span><span class='quote' style='font-weight: bold'>4</span><span class='quote' style='font-weight: bold'>5</span><span class='quote' style='font-weight: bold'>6</span><span class='quote' style='font-weight: bold'>7</span><span class='quote' style='font-weight: bold'>8</span><span class='quote' style='font-weight: bold'>9</span><span class='quote' style='font-weight: bold'>10</span><span class='quote' style='font-weight: bold'>11</span>.\n"
     ]
    }
   ],
   "source": [
    "print(answer)"
   ]
  },
  {
   "cell_type": "code",
   "execution_count": null,
   "metadata": {},
   "outputs": [],
   "source": []
  }
 ],
 "metadata": {
  "kernelspec": {
   "display_name": "diff",
   "language": "python",
   "name": "python3"
  },
  "language_info": {
   "codemirror_mode": {
    "name": "ipython",
    "version": 3
   },
   "file_extension": ".py",
   "mimetype": "text/x-python",
   "name": "python",
   "nbconvert_exporter": "python",
   "pygments_lexer": "ipython3",
   "version": "3.11.9"
  }
 },
 "nbformat": 4,
 "nbformat_minor": 2
}

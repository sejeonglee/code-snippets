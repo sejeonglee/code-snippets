{
 "cells": [
  {
   "cell_type": "code",
   "execution_count": 1,
   "metadata": {},
   "outputs": [
    {
     "name": "stdout",
     "output_type": "stream",
     "text": [
      "Reading excel took 3.31 seconds.\n",
      "Reading excel took 0.56 seconds.\n"
     ]
    }
   ],
   "source": [
    "import pandas as pd\n",
    "import time\n",
    "start = time.time()\n",
    "df = pd.read_excel(\"car crash.xlsx\")\n",
    "print(f\"Reading excel took {time.time() - start:.2f} seconds.\")\n",
    "\n",
    "start = time.time()\n",
    "df2 = pd.read_excel(\"car crash.xlsx\", engine=\"calamine\")\n",
    "print(f\"Reading excel took {time.time() - start:.2f} seconds.\")\n"
   ]
  },
  {
   "cell_type": "code",
   "execution_count": null,
   "metadata": {},
   "outputs": [],
   "source": []
  }
 ],
 "metadata": {
  "kernelspec": {
   "display_name": "sandbox-test",
   "language": "python",
   "name": "python3"
  },
  "language_info": {
   "codemirror_mode": {
    "name": "ipython",
    "version": 3
   },
   "file_extension": ".py",
   "mimetype": "text/x-python",
   "name": "python",
   "nbconvert_exporter": "python",
   "pygments_lexer": "ipython3",
   "version": "3.11.9"
  }
 },
 "nbformat": 4,
 "nbformat_minor": 2
}
